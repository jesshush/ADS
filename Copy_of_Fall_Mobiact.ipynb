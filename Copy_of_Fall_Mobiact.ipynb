{
  "cells": [
    {
      "cell_type": "code",
      "execution_count": 18,
      "metadata": {
        "_cell_guid": "b1076dfc-b9ad-4769-8c92-a6c4dae69d19",
        "_uuid": "8f2839f25d086af736a60e9eeb907d3b93b6e0e5",
        "execution": {
          "iopub.execute_input": "2023-04-18T21:30:56.964129Z",
          "iopub.status.busy": "2023-04-18T21:30:56.96366Z",
          "iopub.status.idle": "2023-04-18T21:31:08.139657Z",
          "shell.execute_reply": "2023-04-18T21:31:08.138656Z",
          "shell.execute_reply.started": "2023-04-18T21:30:56.964014Z"
        },
        "id": "8RhTkZqp4xWo",
        "trusted": true
      },
      "outputs": [],
      "source": [
        "import os\n",
        "import numpy as np\n",
        "import pandas as pd\n",
        "import tensorflow as tf\n",
        "from tensorflow import keras\n",
        "from tensorflow.keras import layers\n",
        "import matplotlib.pyplot as plt\n",
        "from sklearn.model_selection import train_test_split\n",
        "import time\n",
        "from scipy import signal\n",
        "import sklearn.metrics\n",
        "from sklearn.metrics import confusion_matrix\n",
        "import seaborn as sb\n",
        "import keras.backend as K\n",
        "from tensorflow.keras.utils import plot_model\n",
        "import pickle"
      ]
    },
    {
      "cell_type": "code",
      "execution_count": null,
      "metadata": {
        "execution": {
          "iopub.execute_input": "2023-04-18T21:31:08.142407Z",
          "iopub.status.busy": "2023-04-18T21:31:08.141688Z",
          "iopub.status.idle": "2023-04-18T21:31:08.147737Z",
          "shell.execute_reply": "2023-04-18T21:31:08.146741Z",
          "shell.execute_reply.started": "2023-04-18T21:31:08.142367Z"
        },
        "id": "FQTv9pBA4xWr",
        "trusted": true
      },
      "outputs": [],
      "source": [
        "#########################################################################\n",
        "########################################################################\n",
        "#######################################################################\n",
        "######################################################################\n",
        "#####################################################################\n",
        "####################################################################"
      ]
    },
    {
      "cell_type": "markdown",
      "metadata": {
        "id": "l1Xebg7Q4xWs"
      },
      "source": [
        "# Mobiact dataset"
      ]
    },
    {
      "cell_type": "markdown",
      "metadata": {
        "id": "0z0pc-GM4xWt"
      },
      "source": [
        "### Visualization Data"
      ]
    },
    {
      "cell_type": "code",
      "execution_count": 19,
      "metadata": {
        "execution": {
          "iopub.execute_input": "2023-04-18T21:31:08.150672Z",
          "iopub.status.busy": "2023-04-18T21:31:08.149803Z",
          "iopub.status.idle": "2023-04-18T21:31:08.166072Z",
          "shell.execute_reply": "2023-04-18T21:31:08.165246Z",
          "shell.execute_reply.started": "2023-04-18T21:31:08.150629Z"
        },
        "id": "XPo0Sz044xWu",
        "trusted": true
      },
      "outputs": [],
      "source": [
        "person_numlist = list(range(1, 68))\n",
        "trials = list(range(1, 4))"
      ]
    },
    {
      "cell_type": "code",
      "execution_count": 20,
      "metadata": {
        "execution": {
          "iopub.execute_input": "2023-04-18T21:31:08.170494Z",
          "iopub.status.busy": "2023-04-18T21:31:08.170214Z",
          "iopub.status.idle": "2023-04-18T21:31:08.179282Z",
          "shell.execute_reply": "2023-04-18T21:31:08.17836Z",
          "shell.execute_reply.started": "2023-04-18T21:31:08.170469Z"
        },
        "id": "WH9QwP1f4xWu",
        "trusted": true
      },
      "outputs": [],
      "source": [
        "# Loading ADLs (loading 5 times more adl data then fall, according to proportions)\n",
        "# Taking 7 adls and 4 falls\n",
        "# adl_types tells number of windows to extract from each data file\n",
        "\n",
        "fall_types = ['FOL', 'FKL', 'BSC', 'SDL']\n",
        "adl_types = {\n",
        "    'STD':1,\n",
        "    'WAL':1,\n",
        "    'JOG':3,\n",
        "    'JUM':3,\n",
        "    'STU':6,\n",
        "    'STN':6,\n",
        "    'SIT':1\n",
        "}"
      ]
    },
    {
      "cell_type": "code",
      "execution_count": 21,
      "metadata": {
        "execution": {
          "iopub.execute_input": "2023-04-18T21:33:08.729746Z",
          "iopub.status.busy": "2023-04-18T21:33:08.729008Z",
          "iopub.status.idle": "2023-04-18T21:33:29.674784Z",
          "shell.execute_reply": "2023-04-18T21:33:29.673435Z",
          "shell.execute_reply.started": "2023-04-18T21:33:08.729708Z"
        },
        "id": "0RRpQFIz4xWu",
        "trusted": true
      },
      "outputs": [
        {
          "name": "stdout",
          "output_type": "stream",
          "text": [
            "Time taken ==  0\n"
          ]
        }
      ],
      "source": [
        "xtrain = []\n",
        "ytrain = []\n",
        "\n",
        "total_time = 0\n",
        "\n",
        "for folder in os.listdir('MobiFall_CSV'):\n",
        "    if folder not in adl_types : continue\n",
        "    t1 = time.time()\n",
        "\n",
        "    visualize = 1\n",
        "\n",
        "    path = 'MobiFall_CSV/' + folder\n",
        "    print('reading from ',path,end = '')\n",
        "    for person in person_numlist:\n",
        "        for trial in trials:\n",
        "            try :\n",
        "                data = pd.read_csv(path + '/' + folder + '_' + str(person) + '_' + str(trial) + '_' + 'FKL_gyro_9_3.csv')\n",
        "\n",
        "                acc_x = np.array(data['acc_x']).reshape((len(data),1))\n",
        "                acc_y = np.array(data['acc_y']).reshape((len(data),1))\n",
        "                acc_z = np.array(data['acc_z']).reshape((len(data),1))\n",
        "                gyro_x = np.array(data['gyro_x']).reshape((len(data),1))\n",
        "                gyro_y = np.array(data['gyro_y']).reshape((len(data),1))\n",
        "                gyro_z = np.array(data['gyro_z']).reshape((len(data),1))\n",
        "\n",
        "                data = np.concatenate([acc_x,acc_y,acc_z,gyro_x,gyro_y,gyro_z],axis = -1)\n",
        "\n",
        "                num_windows = (9+adl_types[folder])/adl_types[folder]\n",
        "                for last_point in range(600,len(acc_x)+1,300):\n",
        "                    num_windows -= 1\n",
        "                    xtrain.append(data[last_point-600:last_point])\n",
        "                    ytrain.append(0)\n",
        "                    if num_windows == 0 : break\n",
        "\n",
        "                if visualize == 1:\n",
        "                    plt.figure(figsize = (12,2))\n",
        "                    plt.plot(acc_x)\n",
        "                    visualize = 0\n",
        "                    print('===================================================================================================')\n",
        "            except : continue\n",
        "\n",
        "    t2 = time.time()\n",
        "    total_time += t2 - t1\n",
        "    print('Time taken :- ' , t2 - t1)\n",
        "    plt.show()\n",
        "print('Time taken == ',total_time)"
      ]
    },
    {
      "cell_type": "code",
      "execution_count": 22,
      "metadata": {
        "execution": {
          "iopub.execute_input": "2023-04-18T21:33:29.677808Z",
          "iopub.status.busy": "2023-04-18T21:33:29.676817Z",
          "iopub.status.idle": "2023-04-18T21:33:29.735021Z",
          "shell.execute_reply": "2023-04-18T21:33:29.733945Z",
          "shell.execute_reply.started": "2023-04-18T21:33:29.67772Z"
        },
        "id": "hntS9L1T4xWv",
        "trusted": true
      },
      "outputs": [
        {
          "data": {
            "text/plain": [
              "(0,)"
            ]
          },
          "execution_count": 22,
          "metadata": {},
          "output_type": "execute_result"
        }
      ],
      "source": [
        "np.array(xtrain).shape"
      ]
    },
    {
      "cell_type": "code",
      "execution_count": 28,
      "metadata": {
        "execution": {
          "iopub.execute_input": "2023-04-18T21:37:58.581609Z",
          "iopub.status.busy": "2023-04-18T21:37:58.581234Z",
          "iopub.status.idle": "2023-04-18T21:37:59.446138Z",
          "shell.execute_reply": "2023-04-18T21:37:59.445021Z",
          "shell.execute_reply.started": "2023-04-18T21:37:58.581578Z"
        },
        "id": "KzPnXhCN4xWv",
        "trusted": true
      },
      "outputs": [
        {
          "name": "stdout",
          "output_type": "stream",
          "text": [
            "FOL data :- \n"
          ]
        },
        {
          "ename": "KeyError",
          "evalue": "'acc_x'",
          "output_type": "error",
          "traceback": [
            "\u001b[0;31m---------------------------------------------------------------------------\u001b[0m",
            "\u001b[0;31mKeyError\u001b[0m                                  Traceback (most recent call last)",
            "File \u001b[0;32m/opt/anaconda3/lib/python3.12/site-packages/pandas/core/indexes/base.py:3805\u001b[0m, in \u001b[0;36mIndex.get_loc\u001b[0;34m(self, key)\u001b[0m\n\u001b[1;32m   3804\u001b[0m \u001b[38;5;28;01mtry\u001b[39;00m:\n\u001b[0;32m-> 3805\u001b[0m     \u001b[38;5;28;01mreturn\u001b[39;00m \u001b[38;5;28mself\u001b[39m\u001b[38;5;241m.\u001b[39m_engine\u001b[38;5;241m.\u001b[39mget_loc(casted_key)\n\u001b[1;32m   3806\u001b[0m \u001b[38;5;28;01mexcept\u001b[39;00m \u001b[38;5;167;01mKeyError\u001b[39;00m \u001b[38;5;28;01mas\u001b[39;00m err:\n",
            "File \u001b[0;32mindex.pyx:167\u001b[0m, in \u001b[0;36mpandas._libs.index.IndexEngine.get_loc\u001b[0;34m()\u001b[0m\n",
            "File \u001b[0;32mindex.pyx:196\u001b[0m, in \u001b[0;36mpandas._libs.index.IndexEngine.get_loc\u001b[0;34m()\u001b[0m\n",
            "File \u001b[0;32mpandas/_libs/hashtable_class_helper.pxi:7081\u001b[0m, in \u001b[0;36mpandas._libs.hashtable.PyObjectHashTable.get_item\u001b[0;34m()\u001b[0m\n",
            "File \u001b[0;32mpandas/_libs/hashtable_class_helper.pxi:7089\u001b[0m, in \u001b[0;36mpandas._libs.hashtable.PyObjectHashTable.get_item\u001b[0;34m()\u001b[0m\n",
            "\u001b[0;31mKeyError\u001b[0m: 'acc_x'",
            "\nThe above exception was the direct cause of the following exception:\n",
            "\u001b[0;31mKeyError\u001b[0m                                  Traceback (most recent call last)",
            "Cell \u001b[0;32mIn[28], line 4\u001b[0m\n\u001b[1;32m      1\u001b[0m \u001b[38;5;66;03m# Visualizing acc_x of falls\u001b[39;00m\n\u001b[1;32m      3\u001b[0m \u001b[38;5;28mprint\u001b[39m(\u001b[38;5;124m'\u001b[39m\u001b[38;5;124mFOL data :- \u001b[39m\u001b[38;5;124m'\u001b[39m)\n\u001b[0;32m----> 4\u001b[0m data \u001b[38;5;241m=\u001b[39m np\u001b[38;5;241m.\u001b[39marray(pd\u001b[38;5;241m.\u001b[39mread_csv(\u001b[38;5;124m'\u001b[39m\u001b[38;5;124mMobiFall_CSV/CSO_gyro_7_1.csv\u001b[39m\u001b[38;5;124m'\u001b[39m)[\u001b[38;5;124m'\u001b[39m\u001b[38;5;124macc_x\u001b[39m\u001b[38;5;124m'\u001b[39m])\n\u001b[1;32m      5\u001b[0m plt\u001b[38;5;241m.\u001b[39mfigure(figsize \u001b[38;5;241m=\u001b[39m (\u001b[38;5;241m24\u001b[39m,\u001b[38;5;241m3\u001b[39m))\n\u001b[1;32m      6\u001b[0m plt\u001b[38;5;241m.\u001b[39mplot(data)\n",
            "File \u001b[0;32m/opt/anaconda3/lib/python3.12/site-packages/pandas/core/frame.py:4102\u001b[0m, in \u001b[0;36mDataFrame.__getitem__\u001b[0;34m(self, key)\u001b[0m\n\u001b[1;32m   4100\u001b[0m \u001b[38;5;28;01mif\u001b[39;00m \u001b[38;5;28mself\u001b[39m\u001b[38;5;241m.\u001b[39mcolumns\u001b[38;5;241m.\u001b[39mnlevels \u001b[38;5;241m>\u001b[39m \u001b[38;5;241m1\u001b[39m:\n\u001b[1;32m   4101\u001b[0m     \u001b[38;5;28;01mreturn\u001b[39;00m \u001b[38;5;28mself\u001b[39m\u001b[38;5;241m.\u001b[39m_getitem_multilevel(key)\n\u001b[0;32m-> 4102\u001b[0m indexer \u001b[38;5;241m=\u001b[39m \u001b[38;5;28mself\u001b[39m\u001b[38;5;241m.\u001b[39mcolumns\u001b[38;5;241m.\u001b[39mget_loc(key)\n\u001b[1;32m   4103\u001b[0m \u001b[38;5;28;01mif\u001b[39;00m is_integer(indexer):\n\u001b[1;32m   4104\u001b[0m     indexer \u001b[38;5;241m=\u001b[39m [indexer]\n",
            "File \u001b[0;32m/opt/anaconda3/lib/python3.12/site-packages/pandas/core/indexes/base.py:3812\u001b[0m, in \u001b[0;36mIndex.get_loc\u001b[0;34m(self, key)\u001b[0m\n\u001b[1;32m   3807\u001b[0m     \u001b[38;5;28;01mif\u001b[39;00m \u001b[38;5;28misinstance\u001b[39m(casted_key, \u001b[38;5;28mslice\u001b[39m) \u001b[38;5;129;01mor\u001b[39;00m (\n\u001b[1;32m   3808\u001b[0m         \u001b[38;5;28misinstance\u001b[39m(casted_key, abc\u001b[38;5;241m.\u001b[39mIterable)\n\u001b[1;32m   3809\u001b[0m         \u001b[38;5;129;01mand\u001b[39;00m \u001b[38;5;28many\u001b[39m(\u001b[38;5;28misinstance\u001b[39m(x, \u001b[38;5;28mslice\u001b[39m) \u001b[38;5;28;01mfor\u001b[39;00m x \u001b[38;5;129;01min\u001b[39;00m casted_key)\n\u001b[1;32m   3810\u001b[0m     ):\n\u001b[1;32m   3811\u001b[0m         \u001b[38;5;28;01mraise\u001b[39;00m InvalidIndexError(key)\n\u001b[0;32m-> 3812\u001b[0m     \u001b[38;5;28;01mraise\u001b[39;00m \u001b[38;5;167;01mKeyError\u001b[39;00m(key) \u001b[38;5;28;01mfrom\u001b[39;00m \u001b[38;5;21;01merr\u001b[39;00m\n\u001b[1;32m   3813\u001b[0m \u001b[38;5;28;01mexcept\u001b[39;00m \u001b[38;5;167;01mTypeError\u001b[39;00m:\n\u001b[1;32m   3814\u001b[0m     \u001b[38;5;66;03m# If we have a listlike key, _check_indexing_error will raise\u001b[39;00m\n\u001b[1;32m   3815\u001b[0m     \u001b[38;5;66;03m#  InvalidIndexError. Otherwise we fall through and re-raise\u001b[39;00m\n\u001b[1;32m   3816\u001b[0m     \u001b[38;5;66;03m#  the TypeError.\u001b[39;00m\n\u001b[1;32m   3817\u001b[0m     \u001b[38;5;28mself\u001b[39m\u001b[38;5;241m.\u001b[39m_check_indexing_error(key)\n",
            "\u001b[0;31mKeyError\u001b[0m: 'acc_x'"
          ]
        }
      ],
      "source": [
        "# Visualizing acc_x of falls\n",
        "\n",
        "print('FOL data :- ')\n",
        "data = np.array(pd.read_csv('MobiFall_CSV/CSO_gyro_7_1.csv')['acc_x'])\n",
        "plt.figure(figsize = (24,3))\n",
        "plt.plot(data)\n",
        "plt.show()\n",
        "\n",
        "print('FKL data :- ')\n",
        "data = np.array(pd.read_csv('MobiFall_CSV/BSC_gyro_1_1.csv')['gyro_Y'])\n",
        "plt.figure(figsize = (24,3))\n",
        "plt.plot(data)\n",
        "plt.show()\n",
        "\n",
        "print('BSC data :- ')\n",
        "data = np.array(pd.read_csv('MobiFall_CSV/CSI_gyro_10_1.csv')['acc_Z'])\n",
        "plt.figure(figsize = (24,3))\n",
        "plt.plot(data)\n",
        "plt.show()\n",
        "\n",
        "print('SDL data :- ')\n",
        "data = np.array(pd.read_csv('MobiFall_CSV/BSC_gyro_7_2.csv')['acc_x'])\n",
        "plt.figure(figsize = (24,3))\n",
        "plt.plot(data)\n",
        "plt.show()"
      ]
    },
    {
      "cell_type": "code",
      "execution_count": 30,
      "metadata": {
        "execution": {
          "iopub.execute_input": "2023-04-18T21:38:00.012464Z",
          "iopub.status.busy": "2023-04-18T21:38:00.012064Z",
          "iopub.status.idle": "2023-04-18T21:38:14.263526Z",
          "shell.execute_reply": "2023-04-18T21:38:14.26158Z",
          "shell.execute_reply.started": "2023-04-18T21:38:00.012429Z"
        },
        "id": "qKx5iaK44xWw",
        "trusted": true
      },
      "outputs": [
        {
          "name": "stdout",
          "output_type": "stream",
          "text": [
            "Time taken ==  0\n"
          ]
        }
      ],
      "source": [
        "# We extract using standard deviation\n",
        "\n",
        "# Last visualization represents data before and after fall event extraction\n",
        "\n",
        "total_time = 0\n",
        "\n",
        "for folder in os.listdir('MobiFall_CSV'):\n",
        "    if folder not in fall_types : continue\n",
        "    t1 = time.time()\n",
        "\n",
        "    visualize = 1\n",
        "\n",
        "    path = 'MobiFall_CSV/' + folder\n",
        "    print('reading from ',path,end = '')\n",
        "    for person in person_numlist:\n",
        "        for trial in trials:\n",
        "            try :\n",
        "                data = pd.read_csv(path + '/' + folder + '_' + str(person) + '_' + str(trial) + '_' + 'annotated.csv')\n",
        "\n",
        "                acc_x = np.array(data['acc_x']).reshape((len(data),1))\n",
        "                acc_y = np.array(data['acc_y']).reshape((len(data),1))\n",
        "                acc_z = np.array(data['acc_z']).reshape((len(data),1))\n",
        "                gyro_x = np.array(data['gyro_x']).reshape((len(data),1))\n",
        "                gyro_y = np.array(data['gyro_y']).reshape((len(data),1))\n",
        "                gyro_z = np.array(data['gyro_z']).reshape((len(data),1))\n",
        "\n",
        "                data = np.concatenate([acc_x,acc_y,acc_z,gyro_x,gyro_y,gyro_z],axis = -1)\n",
        "\n",
        "                acc_x_sd = ((acc_x - np.sum(acc_x)/len(acc_x))**2)\n",
        "                # at = min(len(acc_x)-300,max(300,np.argmax(acc_x_sd)))\n",
        "                at = np.argmax(acc_x_sd)\n",
        "\n",
        "                if at-120 >= 0 and at+480 < len(acc_x):\n",
        "                    xtrain.append(data[at-120:at+480])\n",
        "                    ytrain.append(1)\n",
        "\n",
        "                if at-240 >= 0 and at+360 < len(acc_x):\n",
        "                    xtrain.append(data[at-240:at+360])\n",
        "                    ytrain.append(1)\n",
        "\n",
        "                if at-360 >= 0 and at+240 < len(acc_x):\n",
        "                    xtrain.append(data[at-360:at+240])\n",
        "                    ytrain.append(1)\n",
        "\n",
        "                if at-480 >= 0 and at+120 < len(acc_x):\n",
        "                    xtrain.append(data[at-480:at+120])\n",
        "                    ytrain.append(1)\n",
        "\n",
        "                if visualize == 1:\n",
        "                    plt.figure(figsize = (12,2))\n",
        "                    plt.plot(np.arange(at-300,at+300),acc_x[at-300:at+300],color = 'red')\n",
        "                    plt.plot(np.arange(0,at-300),acc_x[0:at-300],color = 'blue')\n",
        "                    plt.plot(np.arange(at+300,len(acc_x)),acc_x[at+300:],color = 'blue')\n",
        "                    plt.show()\n",
        "                    visualize = 0\n",
        "                    print('===================================================================================================')\n",
        "            except : continue\n",
        "\n",
        "    t2 = time.time()\n",
        "    total_time += t2 - t1\n",
        "    print('Time taken :- ' , t2 - t1)\n",
        "    plt.show()\n",
        "print('Time taken == ',total_time)\n",
        "\n",
        "xtrain = np.array(xtrain)\n",
        "ytrain = np.array(ytrain)"
      ]
    },
    {
      "cell_type": "code",
      "execution_count": 31,
      "metadata": {
        "execution": {
          "iopub.execute_input": "2023-04-18T21:38:15.778445Z",
          "iopub.status.busy": "2023-04-18T21:38:15.77803Z",
          "iopub.status.idle": "2023-04-18T21:38:15.788242Z",
          "shell.execute_reply": "2023-04-18T21:38:15.787307Z",
          "shell.execute_reply.started": "2023-04-18T21:38:15.778411Z"
        },
        "id": "SmhUNsT94xWw",
        "trusted": true
      },
      "outputs": [
        {
          "data": {
            "text/plain": [
              "((0,), (0,))"
            ]
          },
          "execution_count": 31,
          "metadata": {},
          "output_type": "execute_result"
        }
      ],
      "source": [
        "xtrain.shape,ytrain.shape"
      ]
    },
    {
      "cell_type": "code",
      "execution_count": 33,
      "metadata": {
        "execution": {
          "iopub.execute_input": "2023-04-18T21:38:20.563893Z",
          "iopub.status.busy": "2023-04-18T21:38:20.563535Z",
          "iopub.status.idle": "2023-04-18T21:38:20.633021Z",
          "shell.execute_reply": "2023-04-18T21:38:20.632065Z",
          "shell.execute_reply.started": "2023-04-18T21:38:20.563861Z"
        },
        "id": "rvcdlPd24xWx",
        "trusted": true
      },
      "outputs": [
        {
          "ename": "ValueError",
          "evalue": "With n_samples=0, test_size=None and train_size=0.8, the resulting train set will be empty. Adjust any of the aforementioned parameters.",
          "output_type": "error",
          "traceback": [
            "\u001b[0;31m---------------------------------------------------------------------------\u001b[0m",
            "\u001b[0;31mValueError\u001b[0m                                Traceback (most recent call last)",
            "Cell \u001b[0;32mIn[33], line 1\u001b[0m\n\u001b[0;32m----> 1\u001b[0m xtrain,xtest,ytrain,ytest \u001b[38;5;241m=\u001b[39m train_test_split(xtrain,ytrain,train_size \u001b[38;5;241m=\u001b[39m \u001b[38;5;241m0.8\u001b[39m)\n\u001b[1;32m      2\u001b[0m xtest,xval,ytest,yval \u001b[38;5;241m=\u001b[39m train_test_split(xtest,ytest,train_size \u001b[38;5;241m=\u001b[39m \u001b[38;5;241m0.5\u001b[39m)\n",
            "File \u001b[0;32m/opt/anaconda3/lib/python3.12/site-packages/sklearn/utils/_param_validation.py:213\u001b[0m, in \u001b[0;36mvalidate_params.<locals>.decorator.<locals>.wrapper\u001b[0;34m(*args, **kwargs)\u001b[0m\n\u001b[1;32m    207\u001b[0m \u001b[38;5;28;01mtry\u001b[39;00m:\n\u001b[1;32m    208\u001b[0m     \u001b[38;5;28;01mwith\u001b[39;00m config_context(\n\u001b[1;32m    209\u001b[0m         skip_parameter_validation\u001b[38;5;241m=\u001b[39m(\n\u001b[1;32m    210\u001b[0m             prefer_skip_nested_validation \u001b[38;5;129;01mor\u001b[39;00m global_skip_validation\n\u001b[1;32m    211\u001b[0m         )\n\u001b[1;32m    212\u001b[0m     ):\n\u001b[0;32m--> 213\u001b[0m         \u001b[38;5;28;01mreturn\u001b[39;00m func(\u001b[38;5;241m*\u001b[39margs, \u001b[38;5;241m*\u001b[39m\u001b[38;5;241m*\u001b[39mkwargs)\n\u001b[1;32m    214\u001b[0m \u001b[38;5;28;01mexcept\u001b[39;00m InvalidParameterError \u001b[38;5;28;01mas\u001b[39;00m e:\n\u001b[1;32m    215\u001b[0m     \u001b[38;5;66;03m# When the function is just a wrapper around an estimator, we allow\u001b[39;00m\n\u001b[1;32m    216\u001b[0m     \u001b[38;5;66;03m# the function to delegate validation to the estimator, but we replace\u001b[39;00m\n\u001b[1;32m    217\u001b[0m     \u001b[38;5;66;03m# the name of the estimator by the name of the function in the error\u001b[39;00m\n\u001b[1;32m    218\u001b[0m     \u001b[38;5;66;03m# message to avoid confusion.\u001b[39;00m\n\u001b[1;32m    219\u001b[0m     msg \u001b[38;5;241m=\u001b[39m re\u001b[38;5;241m.\u001b[39msub(\n\u001b[1;32m    220\u001b[0m         \u001b[38;5;124mr\u001b[39m\u001b[38;5;124m\"\u001b[39m\u001b[38;5;124mparameter of \u001b[39m\u001b[38;5;124m\\\u001b[39m\u001b[38;5;124mw+ must be\u001b[39m\u001b[38;5;124m\"\u001b[39m,\n\u001b[1;32m    221\u001b[0m         \u001b[38;5;124mf\u001b[39m\u001b[38;5;124m\"\u001b[39m\u001b[38;5;124mparameter of \u001b[39m\u001b[38;5;132;01m{\u001b[39;00mfunc\u001b[38;5;241m.\u001b[39m\u001b[38;5;18m__qualname__\u001b[39m\u001b[38;5;132;01m}\u001b[39;00m\u001b[38;5;124m must be\u001b[39m\u001b[38;5;124m\"\u001b[39m,\n\u001b[1;32m    222\u001b[0m         \u001b[38;5;28mstr\u001b[39m(e),\n\u001b[1;32m    223\u001b[0m     )\n",
            "File \u001b[0;32m/opt/anaconda3/lib/python3.12/site-packages/sklearn/model_selection/_split.py:2780\u001b[0m, in \u001b[0;36mtrain_test_split\u001b[0;34m(test_size, train_size, random_state, shuffle, stratify, *arrays)\u001b[0m\n\u001b[1;32m   2777\u001b[0m arrays \u001b[38;5;241m=\u001b[39m indexable(\u001b[38;5;241m*\u001b[39marrays)\n\u001b[1;32m   2779\u001b[0m n_samples \u001b[38;5;241m=\u001b[39m _num_samples(arrays[\u001b[38;5;241m0\u001b[39m])\n\u001b[0;32m-> 2780\u001b[0m n_train, n_test \u001b[38;5;241m=\u001b[39m _validate_shuffle_split(\n\u001b[1;32m   2781\u001b[0m     n_samples, test_size, train_size, default_test_size\u001b[38;5;241m=\u001b[39m\u001b[38;5;241m0.25\u001b[39m\n\u001b[1;32m   2782\u001b[0m )\n\u001b[1;32m   2784\u001b[0m \u001b[38;5;28;01mif\u001b[39;00m shuffle \u001b[38;5;129;01mis\u001b[39;00m \u001b[38;5;28;01mFalse\u001b[39;00m:\n\u001b[1;32m   2785\u001b[0m     \u001b[38;5;28;01mif\u001b[39;00m stratify \u001b[38;5;129;01mis\u001b[39;00m \u001b[38;5;129;01mnot\u001b[39;00m \u001b[38;5;28;01mNone\u001b[39;00m:\n",
            "File \u001b[0;32m/opt/anaconda3/lib/python3.12/site-packages/sklearn/model_selection/_split.py:2410\u001b[0m, in \u001b[0;36m_validate_shuffle_split\u001b[0;34m(n_samples, test_size, train_size, default_test_size)\u001b[0m\n\u001b[1;32m   2407\u001b[0m n_train, n_test \u001b[38;5;241m=\u001b[39m \u001b[38;5;28mint\u001b[39m(n_train), \u001b[38;5;28mint\u001b[39m(n_test)\n\u001b[1;32m   2409\u001b[0m \u001b[38;5;28;01mif\u001b[39;00m n_train \u001b[38;5;241m==\u001b[39m \u001b[38;5;241m0\u001b[39m:\n\u001b[0;32m-> 2410\u001b[0m     \u001b[38;5;28;01mraise\u001b[39;00m \u001b[38;5;167;01mValueError\u001b[39;00m(\n\u001b[1;32m   2411\u001b[0m         \u001b[38;5;124m\"\u001b[39m\u001b[38;5;124mWith n_samples=\u001b[39m\u001b[38;5;132;01m{}\u001b[39;00m\u001b[38;5;124m, test_size=\u001b[39m\u001b[38;5;132;01m{}\u001b[39;00m\u001b[38;5;124m and train_size=\u001b[39m\u001b[38;5;132;01m{}\u001b[39;00m\u001b[38;5;124m, the \u001b[39m\u001b[38;5;124m\"\u001b[39m\n\u001b[1;32m   2412\u001b[0m         \u001b[38;5;124m\"\u001b[39m\u001b[38;5;124mresulting train set will be empty. Adjust any of the \u001b[39m\u001b[38;5;124m\"\u001b[39m\n\u001b[1;32m   2413\u001b[0m         \u001b[38;5;124m\"\u001b[39m\u001b[38;5;124maforementioned parameters.\u001b[39m\u001b[38;5;124m\"\u001b[39m\u001b[38;5;241m.\u001b[39mformat(n_samples, test_size, train_size)\n\u001b[1;32m   2414\u001b[0m     )\n\u001b[1;32m   2416\u001b[0m \u001b[38;5;28;01mreturn\u001b[39;00m n_train, n_test\n",
            "\u001b[0;31mValueError\u001b[0m: With n_samples=0, test_size=None and train_size=0.8, the resulting train set will be empty. Adjust any of the aforementioned parameters."
          ]
        }
      ],
      "source": [
        "xtrain,xtest,ytrain,ytest = train_test_split(xtrain,ytrain,train_size = 0.8)\n",
        "xtest,xval,ytest,yval = train_test_split(xtest,ytest,train_size = 0.5)"
      ]
    },
    {
      "cell_type": "code",
      "execution_count": null,
      "metadata": {
        "execution": {
          "iopub.execute_input": "2023-04-18T21:38:21.539121Z",
          "iopub.status.busy": "2023-04-18T21:38:21.538736Z",
          "iopub.status.idle": "2023-04-18T21:38:21.546024Z",
          "shell.execute_reply": "2023-04-18T21:38:21.545132Z",
          "shell.execute_reply.started": "2023-04-18T21:38:21.539071Z"
        },
        "id": "6AybhnnG4xWx",
        "trusted": true
      },
      "outputs": [],
      "source": [
        "xtrain.shape,ytrain.shape,xtest.shape,ytest.shape,xval.shape,yval.shape"
      ]
    },
    {
      "cell_type": "code",
      "execution_count": null,
      "metadata": {
        "execution": {
          "iopub.execute_input": "2023-04-18T21:38:26.782273Z",
          "iopub.status.busy": "2023-04-18T21:38:26.781842Z",
          "iopub.status.idle": "2023-04-18T21:38:29.343415Z",
          "shell.execute_reply": "2023-04-18T21:38:29.342432Z",
          "shell.execute_reply.started": "2023-04-18T21:38:26.782215Z"
        },
        "id": "OnecX3wJ4xWx",
        "trusted": true
      },
      "outputs": [],
      "source": [
        "# Min-max normalization xtrain ,xval and xtest data\n",
        "\n",
        "for i in range(6):\n",
        "    min_ = min([min(j) for j in xtrain[:,:,i]])\n",
        "    max_ = max([max(j) for j in xtrain[:,:,i]])\n",
        "\n",
        "    xtrain[:,:,i] = 2*(xtrain[:,:,i]-min_)/(max_-min_)-1\n",
        "\n",
        "for i in range(6):\n",
        "    min_ = min([min(j) for j in xtest[:,:,i]])\n",
        "    max_ = max([max(j) for j in xtest[:,:,i]])\n",
        "\n",
        "    xtest[:,:,i] = 2*(xtest[:,:,i]-min_)/(max_-min_)-1\n",
        "\n",
        "for i in range(6):\n",
        "    min_ = min([min(j) for j in xval[:,:,i]])\n",
        "    max_ = max([max(j) for j in xval[:,:,i]])\n",
        "\n",
        "    xval[:,:,i] = 2*(xval[:,:,i]-min_)/(max_-min_)-1"
      ]
    },
    {
      "cell_type": "code",
      "execution_count": null,
      "metadata": {
        "execution": {
          "iopub.execute_input": "2023-04-18T21:38:29.345776Z",
          "iopub.status.busy": "2023-04-18T21:38:29.345387Z",
          "iopub.status.idle": "2023-04-18T21:38:29.353382Z",
          "shell.execute_reply": "2023-04-18T21:38:29.35223Z",
          "shell.execute_reply.started": "2023-04-18T21:38:29.345739Z"
        },
        "id": "dOqUhru24xWx",
        "trusted": true
      },
      "outputs": [],
      "source": [
        "xtrain.shape,ytrain.shape,xtest.shape,ytest.shape,xval.shape,yval.shape"
      ]
    },
    {
      "cell_type": "code",
      "execution_count": null,
      "metadata": {
        "execution": {
          "iopub.execute_input": "2023-04-18T21:38:35.450825Z",
          "iopub.status.busy": "2023-04-18T21:38:35.45045Z",
          "iopub.status.idle": "2023-04-18T21:38:35.831071Z",
          "shell.execute_reply": "2023-04-18T21:38:35.830048Z",
          "shell.execute_reply.started": "2023-04-18T21:38:35.450792Z"
        },
        "id": "PRSbFCAp4xWx",
        "trusted": true
      },
      "outputs": [],
      "source": [
        "# Graph of fall vs not fall\n",
        "\n",
        "plt.figure(figsize = (24,8))\n",
        "plt.subplot(1,3,1)\n",
        "plt.bar(np.arange(0,2),[ytrain.shape[0]-sum(ytrain),sum(ytrain)])\n",
        "\n",
        "plt.subplot(1,3,2)\n",
        "plt.bar(np.arange(0,2),[ytest.shape[0]-sum(ytest),sum(ytest)])\n",
        "\n",
        "plt.subplot(1,3,3)\n",
        "plt.bar(np.arange(0,2),[yval.shape[0]-sum(yval),sum(yval)])\n",
        "plt.show()"
      ]
    },
    {
      "cell_type": "markdown",
      "metadata": {
        "id": "eHbXonqS4xWy"
      },
      "source": [
        "# Multiheaded CNN + BiLSTM"
      ]
    },
    {
      "cell_type": "code",
      "execution_count": null,
      "metadata": {
        "execution": {
          "iopub.execute_input": "2023-04-18T21:51:50.406736Z",
          "iopub.status.busy": "2023-04-18T21:51:50.406362Z",
          "iopub.status.idle": "2023-04-18T21:51:50.414456Z",
          "shell.execute_reply": "2023-04-18T21:51:50.413145Z",
          "shell.execute_reply.started": "2023-04-18T21:51:50.406704Z"
        },
        "id": "9CPEGaLH4xWy",
        "trusted": true
      },
      "outputs": [],
      "source": [
        "# Multiheaded CNN\n",
        "\n",
        "def build_cnn(input_layer):\n",
        "\n",
        "    cnn = layers.Conv1D(9,7,padding=\"same\")(input_layer)\n",
        "    cnn = layers.BatchNormalization()(cnn)\n",
        "    cnn = layers.Dropout(rate = 0.2)(cnn)\n",
        "\n",
        "    cnn = layers.Conv1D(18,5,padding=\"same\")(cnn)\n",
        "    cnn = layers.BatchNormalization()(cnn)\n",
        "    cnn = layers.Dropout(rate = 0.2)(cnn)\n",
        "\n",
        "    cnn = layers.Conv1D(36,3,padding=\"same\")(cnn)\n",
        "    cnn = layers.BatchNormalization()(cnn)\n",
        "    cnn = layers.Dropout(rate = 0.2)(cnn)\n",
        "\n",
        "    return cnn"
      ]
    },
    {
      "cell_type": "code",
      "execution_count": null,
      "metadata": {
        "execution": {
          "iopub.execute_input": "2023-04-18T21:51:50.574385Z",
          "iopub.status.busy": "2023-04-18T21:51:50.573668Z",
          "iopub.status.idle": "2023-04-18T21:51:50.581757Z",
          "shell.execute_reply": "2023-04-18T21:51:50.58035Z",
          "shell.execute_reply.started": "2023-04-18T21:51:50.574346Z"
        },
        "id": "DrZ2PnMK4xWy",
        "trusted": true
      },
      "outputs": [],
      "source": [
        "# Bi-LSTM Attentions\n",
        "\n",
        "def build_bilstm(input_layer,last_sequences = False):\n",
        "\n",
        "    lstm = layers.Bidirectional(layers.LSTM(18,return_sequences = True))(input_layer)\n",
        "    lstm = layers.LayerNormalization()(lstm)\n",
        "    lstm = layers.Dropout(rate = 0.2)(lstm)\n",
        "\n",
        "    lstm = layers.Bidirectional(layers.LSTM(36,return_sequences = True))(lstm)\n",
        "    lstm = layers.LayerNormalization()(lstm)\n",
        "    lstm = layers.Dropout(rate = 0.2)(lstm)\n",
        "\n",
        "    lstm = layers.Bidirectional(layers.LSTM(72,return_sequences = last_sequences))(lstm)\n",
        "    lstm = layers.LayerNormalization()(lstm)\n",
        "    lstm = layers.Dropout(rate = 0.2)(lstm)\n",
        "\n",
        "    return lstm"
      ]
    },
    {
      "cell_type": "code",
      "execution_count": null,
      "metadata": {
        "execution": {
          "iopub.execute_input": "2023-04-18T21:51:50.771062Z",
          "iopub.status.busy": "2023-04-18T21:51:50.770118Z",
          "iopub.status.idle": "2023-04-18T21:51:50.776862Z",
          "shell.execute_reply": "2023-04-18T21:51:50.775699Z",
          "shell.execute_reply.started": "2023-04-18T21:51:50.771014Z"
        },
        "id": "h4CO6cJV4xWy",
        "trusted": true
      },
      "outputs": [],
      "source": [
        "# Dense layer\n",
        "\n",
        "def build_dense(input_layer):\n",
        "\n",
        "    dense = layers.Dense(72,name = 'dense_1')(input_layer)\n",
        "    dense = layers.Dense(1,name = 'dense_3',activation = 'sigmoid')(dense)\n",
        "\n",
        "    return dense"
      ]
    },
    {
      "cell_type": "code",
      "execution_count": null,
      "metadata": {
        "execution": {
          "iopub.execute_input": "2023-04-18T21:51:51.486432Z",
          "iopub.status.busy": "2023-04-18T21:51:51.484454Z",
          "iopub.status.idle": "2023-04-18T21:51:51.492786Z",
          "shell.execute_reply": "2023-04-18T21:51:51.491871Z",
          "shell.execute_reply.started": "2023-04-18T21:51:51.486381Z"
        },
        "id": "yrp848yV4xWy",
        "trusted": true
      },
      "outputs": [],
      "source": [
        "def build_model():\n",
        "    input_layer1 = keras.Input((xtrain.shape[1],3), name = 'Input1')\n",
        "    input_layer2 = keras.Input((xtrain.shape[1],3), name = 'Input2')\n",
        "\n",
        "    output1 = build_cnn(input_layer1)\n",
        "    output2 = build_cnn(input_layer2)\n",
        "\n",
        "    output = layers.concatenate([output1,output2])\n",
        "\n",
        "    output = build_bilstm(output)\n",
        "\n",
        "    output = build_dense(output)\n",
        "\n",
        "    return keras.Model([input_layer1,input_layer2],output)"
      ]
    },
    {
      "cell_type": "code",
      "execution_count": null,
      "metadata": {
        "execution": {
          "iopub.execute_input": "2023-04-18T21:51:51.81507Z",
          "iopub.status.busy": "2023-04-18T21:51:51.814702Z",
          "iopub.status.idle": "2023-04-18T21:52:04.975709Z",
          "shell.execute_reply": "2023-04-18T21:52:04.974579Z",
          "shell.execute_reply.started": "2023-04-18T21:51:51.815038Z"
        },
        "id": "kIEuxef54xWy",
        "trusted": true
      },
      "outputs": [],
      "source": [
        "plot_model(build_model(),show_shapes = True,dpi=40), build_model().summary()"
      ]
    },
    {
      "cell_type": "code",
      "execution_count": null,
      "metadata": {
        "execution": {
          "iopub.execute_input": "2023-04-18T21:52:04.981665Z",
          "iopub.status.busy": "2023-04-18T21:52:04.981254Z",
          "iopub.status.idle": "2023-04-18T22:25:01.636681Z",
          "shell.execute_reply": "2023-04-18T22:25:01.635298Z",
          "shell.execute_reply.started": "2023-04-18T21:52:04.981625Z"
        },
        "id": "T7LHV0MV4xWy",
        "trusted": true
      },
      "outputs": [],
      "source": [
        "models1 = []\n",
        "\n",
        "for BATCH_SIZE in [128,64,32]:\n",
        "    for learning_rate in [0.0001]:\n",
        "        print(\"\\033[1m=====================================BATCH_SIZE=\",BATCH_SIZE,\"learning_rate=\",learning_rate,\"=====================================\\033[0m\")\n",
        "\n",
        "        lr_scheduler = keras.optimizers.schedules.ExponentialDecay(\n",
        "            initial_learning_rate = learning_rate,\n",
        "            decay_steps = int((xtrain.shape[0] + BATCH_SIZE)/BATCH_SIZE),\n",
        "            decay_rate = 0.95\n",
        "        )\n",
        "\n",
        "        optimizer = keras.optimizers.Adam()\n",
        "        optimizer.learning_rate = lr_scheduler\n",
        "\n",
        "        model = build_model()\n",
        "\n",
        "        plot_model(model,show_shapes = True,dpi=20)\n",
        "\n",
        "        model.summary()\n",
        "\n",
        "        model.compile(loss = 'binary_crossentropy',optimizer=optimizer,metrics=['accuracy'])\n",
        "        model_history = model.fit(\n",
        "            {'Input1': xtrain[:,:,0:3], 'Input2': xtrain[:,:,3:6]},\n",
        "            ytrain,\n",
        "            validation_data = (\n",
        "                [xval[:,:,0:3],xval[:,:,3:6]],\n",
        "                yval\n",
        "            ),\n",
        "            epochs = 50,\n",
        "            batch_size = BATCH_SIZE,\n",
        "        )\n",
        "\n",
        "        # Testing accuracy\n",
        "\n",
        "        plt.figure(figsize = (8,6))\n",
        "        plt.plot(model_history.history['accuracy'], color=\"blue\", alpha = 0.5)\n",
        "        plt.plot(model_history.history['loss'], color=\"blue\", alpha = 0.5)\n",
        "        plt.plot(model_history.history['val_accuracy'], color=\"red\", alpha = 0.5)\n",
        "        plt.plot(model_history.history['val_loss'], color=\"red\", alpha = 0.5)\n",
        "        plt.show()\n",
        "\n",
        "        print('test loss = ',model.evaluate([xtest[:,:,0:3],xtest[:,:,3:6]], ytest)[0])\n",
        "        print('test accuracy = ',model.evaluate([xtest[:,:,0:3],xtest[:,:,3:6]], ytest)[1],'\\n')\n",
        "\n",
        "        ypred = model.predict([xtest[:,:,0:3],xtest[:,:,3:6]])\n",
        "\n",
        "        test_cm = confusion_matrix(ytest,(ypred >= 0.5)*1)\n",
        "\n",
        "        sb.set(rc = {'figure.figsize':(12.8,9.6)})\n",
        "        sb.heatmap(test_cm,annot = True, cmap = 'YlOrRd')\n",
        "        plt.show()\n",
        "\n",
        "        print(sklearn.metrics.classification_report(ytest,(ypred >= 0.5)*1))\n",
        "\n",
        "        models1.append(model)"
      ]
    },
    {
      "cell_type": "markdown",
      "metadata": {
        "id": "-Jvp8DCK4xWz"
      },
      "source": [
        "# With Attentions"
      ]
    },
    {
      "cell_type": "code",
      "execution_count": null,
      "metadata": {
        "execution": {
          "iopub.execute_input": "2023-04-18T22:25:01.639518Z",
          "iopub.status.busy": "2023-04-18T22:25:01.639019Z",
          "iopub.status.idle": "2023-04-18T22:25:01.651624Z",
          "shell.execute_reply": "2023-04-18T22:25:01.65029Z",
          "shell.execute_reply.started": "2023-04-18T22:25:01.639473Z"
        },
        "id": "kF3XtMOg4xWz",
        "trusted": true
      },
      "outputs": [],
      "source": [
        "class attention(layers.Layer):\n",
        "    def __init__(self,return_sequences=True):\n",
        "        self.return_sequences = return_sequences\n",
        "        super(attention,self).__init__()\n",
        "\n",
        "    def build(self,input_shape):\n",
        "        self.W=self.add_weight(name=\"att_weight\", shape=(input_shape[-1],1),initializer=\"normal\")\n",
        "        self.b=self.add_weight(name=\"att_bias\", shape=(input_shape[1],1),initializer=\"normal\")\n",
        "\n",
        "        super(attention,self).build(input_shape)\n",
        "\n",
        "    def call(self,x):\n",
        "        e = K.tanh(K.dot(x,self.W)+self.b)\n",
        "        a = K.softmax(e, axis=1)\n",
        "        output = x*a\n",
        "        if self.return_sequences:\n",
        "\n",
        "            return output\n",
        "        return K.sum(output, axis=1)"
      ]
    },
    {
      "cell_type": "code",
      "execution_count": null,
      "metadata": {
        "execution": {
          "iopub.execute_input": "2023-04-18T22:25:01.655919Z",
          "iopub.status.busy": "2023-04-18T22:25:01.655457Z",
          "iopub.status.idle": "2023-04-18T22:25:01.670732Z",
          "shell.execute_reply": "2023-04-18T22:25:01.66958Z",
          "shell.execute_reply.started": "2023-04-18T22:25:01.655876Z"
        },
        "id": "JbP-8k774xWz",
        "trusted": true
      },
      "outputs": [],
      "source": [
        "# Multiheaded CNN\n",
        "\n",
        "def build_cnn(input_layer):\n",
        "\n",
        "    cnn = layers.Conv1D(9,7,padding=\"same\")(input_layer)\n",
        "    cnn = layers.BatchNormalization()(cnn)\n",
        "    cnn = layers.Dropout(rate = 0.2)(cnn)\n",
        "\n",
        "    cnn = layers.Conv1D(18,5,padding=\"same\")(cnn)\n",
        "    cnn = layers.BatchNormalization()(cnn)\n",
        "    cnn = layers.Dropout(rate = 0.2)(cnn)\n",
        "\n",
        "    cnn = layers.Conv1D(36,3,padding=\"same\")(cnn)\n",
        "    cnn = layers.BatchNormalization()(cnn)\n",
        "    cnn = layers.Dropout(rate = 0.2)(cnn)\n",
        "\n",
        "    return cnn"
      ]
    },
    {
      "cell_type": "code",
      "execution_count": null,
      "metadata": {
        "execution": {
          "iopub.execute_input": "2023-04-18T22:25:01.672521Z",
          "iopub.status.busy": "2023-04-18T22:25:01.671966Z",
          "iopub.status.idle": "2023-04-18T22:25:01.683316Z",
          "shell.execute_reply": "2023-04-18T22:25:01.682166Z",
          "shell.execute_reply.started": "2023-04-18T22:25:01.672481Z"
        },
        "id": "EaW8Xfib4xWz",
        "trusted": true
      },
      "outputs": [],
      "source": [
        "# Bi-LSTM Attentions\n",
        "\n",
        "def build_bilstm(input_layer,last_sequences = False):\n",
        "\n",
        "    lstm = layers.Bidirectional(layers.LSTM(18,return_sequences = True))(input_layer)\n",
        "    lstm = layers.LayerNormalization()(lstm)\n",
        "    lstm = layers.Dropout(rate = 0.2)(lstm)\n",
        "\n",
        "    lstm = attention(True)(lstm)\n",
        "\n",
        "    lstm = layers.Bidirectional(layers.LSTM(36,return_sequences = True))(lstm)\n",
        "    lstm = layers.LayerNormalization()(lstm)\n",
        "    lstm = layers.Dropout(rate = 0.2)(lstm)\n",
        "\n",
        "    lstm = attention(True)(lstm)\n",
        "\n",
        "    lstm = layers.Bidirectional(layers.LSTM(72,return_sequences = last_sequences))(lstm)\n",
        "    lstm = layers.LayerNormalization()(lstm)\n",
        "    lstm = layers.Dropout(rate = 0.2)(lstm)\n",
        "\n",
        "    return lstm"
      ]
    },
    {
      "cell_type": "code",
      "execution_count": null,
      "metadata": {
        "execution": {
          "iopub.execute_input": "2023-04-18T22:25:01.685548Z",
          "iopub.status.busy": "2023-04-18T22:25:01.684915Z",
          "iopub.status.idle": "2023-04-18T22:25:01.692912Z",
          "shell.execute_reply": "2023-04-18T22:25:01.691757Z",
          "shell.execute_reply.started": "2023-04-18T22:25:01.685507Z"
        },
        "id": "5DzF7z4T4xWz",
        "trusted": true
      },
      "outputs": [],
      "source": [
        "# Dense layer\n",
        "\n",
        "def build_dense(input_layer):\n",
        "\n",
        "    dense = layers.Dense(72,name = 'dense_1')(input_layer)\n",
        "    dense = layers.Dense(1,name = 'dense_3',activation = 'sigmoid')(dense)\n",
        "\n",
        "    return dense"
      ]
    },
    {
      "cell_type": "code",
      "execution_count": null,
      "metadata": {
        "execution": {
          "iopub.execute_input": "2023-04-18T22:25:01.695207Z",
          "iopub.status.busy": "2023-04-18T22:25:01.694253Z",
          "iopub.status.idle": "2023-04-18T22:25:01.705397Z",
          "shell.execute_reply": "2023-04-18T22:25:01.704635Z",
          "shell.execute_reply.started": "2023-04-18T22:25:01.695167Z"
        },
        "id": "PnkTfOnl4xWz",
        "trusted": true
      },
      "outputs": [],
      "source": [
        "def build_model():\n",
        "    input_layer1 = keras.Input((xtrain.shape[1],3), name = 'Input1')\n",
        "    input_layer2 = keras.Input((xtrain.shape[1],3), name = 'Input2')\n",
        "\n",
        "    output1 = build_cnn(input_layer1)\n",
        "    output2 = build_cnn(input_layer2)\n",
        "\n",
        "    output = layers.concatenate([output1,output2])\n",
        "\n",
        "    output = build_bilstm(output)\n",
        "\n",
        "    output = build_dense(output)\n",
        "\n",
        "    return keras.Model([input_layer1,input_layer2],output)"
      ]
    },
    {
      "cell_type": "code",
      "execution_count": null,
      "metadata": {
        "execution": {
          "iopub.execute_input": "2023-04-18T22:25:01.707716Z",
          "iopub.status.busy": "2023-04-18T22:25:01.706692Z",
          "iopub.status.idle": "2023-04-18T22:25:04.911801Z",
          "shell.execute_reply": "2023-04-18T22:25:04.910576Z",
          "shell.execute_reply.started": "2023-04-18T22:25:01.707678Z"
        },
        "id": "HkiJstSx4xW0",
        "trusted": true
      },
      "outputs": [],
      "source": [
        "plot_model(build_model(),show_shapes = True,dpi=40),build_model().summary()"
      ]
    },
    {
      "cell_type": "code",
      "execution_count": null,
      "metadata": {
        "execution": {
          "iopub.execute_input": "2023-04-18T22:25:04.914449Z",
          "iopub.status.busy": "2023-04-18T22:25:04.913872Z",
          "iopub.status.idle": "2023-04-18T22:56:57.207426Z",
          "shell.execute_reply": "2023-04-18T22:56:57.20636Z",
          "shell.execute_reply.started": "2023-04-18T22:25:04.91441Z"
        },
        "id": "C1Zt77y94xW0",
        "trusted": true
      },
      "outputs": [],
      "source": [
        "models2 = []\n",
        "\n",
        "for BATCH_SIZE in [128,64,32]:\n",
        "    for learning_rate in [0.0001]:\n",
        "        print(\"\\033[1m=====================================BATCH_SIZE=\",BATCH_SIZE,\"learning_rate=\",learning_rate,\"=====================================\\033[0m\")\n",
        "\n",
        "        lr_scheduler = keras.optimizers.schedules.ExponentialDecay(\n",
        "            initial_learning_rate = learning_rate,\n",
        "            decay_steps = int((xtrain.shape[0] + BATCH_SIZE)/BATCH_SIZE),\n",
        "            decay_rate = 0.99\n",
        "        )\n",
        "\n",
        "        optimizer = keras.optimizers.Adam()\n",
        "        optimizer.learning_rate = lr_scheduler\n",
        "\n",
        "        model = build_model()\n",
        "\n",
        "        plot_model(model,show_shapes = True,dpi=20)\n",
        "\n",
        "        model.summary()\n",
        "\n",
        "        model.compile(loss = 'binary_crossentropy',optimizer=optimizer,metrics=['accuracy'])\n",
        "        model_history = model.fit(\n",
        "            {'Input1': xtrain[:,:,0:3], 'Input2': xtrain[:,:,3:6]},\n",
        "            ytrain,\n",
        "            validation_data = (\n",
        "                [xval[:,:,0:3],xval[:,:,3:6]],\n",
        "                yval\n",
        "            ),\n",
        "            epochs = 50,\n",
        "            batch_size = BATCH_SIZE,\n",
        "        )\n",
        "\n",
        "        # Testing accuracy\n",
        "\n",
        "        plt.figure(figsize = (8,6))\n",
        "        plt.plot(model_history.history['accuracy'], color=\"blue\", alpha = 0.5)\n",
        "        plt.plot(model_history.history['loss'], color=\"blue\", alpha = 0.5)\n",
        "        plt.plot(model_history.history['val_accuracy'], color=\"red\", alpha = 0.5)\n",
        "        plt.plot(model_history.history['val_loss'], color=\"red\", alpha = 0.5)\n",
        "        plt.show()\n",
        "\n",
        "        print('test loss = ',model.evaluate([xtest[:,:,0:3],xtest[:,:,3:6]], ytest)[0])\n",
        "        print('test accuracy = ',model.evaluate([xtest[:,:,0:3],xtest[:,:,3:6]], ytest)[1],'\\n')\n",
        "\n",
        "        ypred = model.predict([xtest[:,:,0:3],xtest[:,:,3:6]])\n",
        "\n",
        "        test_cm = confusion_matrix(ytest,(ypred >= 0.5)*1)\n",
        "\n",
        "        sb.set(rc = {'figure.figsize':(12.8,9.6)})\n",
        "        sb.heatmap(test_cm,annot = True, cmap = 'YlOrRd')\n",
        "        plt.plot()\n",
        "\n",
        "        print(sklearn.metrics.classification_report(ytest,(ypred >= 0.5)*1))\n",
        "\n",
        "        models2.append(model)"
      ]
    },
    {
      "cell_type": "code",
      "execution_count": null,
      "metadata": {
        "id": "GUx6U5ap4xW0"
      },
      "outputs": [],
      "source": [
        "import pickle\n",
        "pickle.dump(models1, open('models1.sav', 'wb'))\n",
        "pickle.dump(models2, open('models2.sav', 'wb'))\n",
        "pickle.dump(xtrain, open('xtrain.sav', 'wb'))\n",
        "pickle.dump(xtest, open('xtest.sav', 'wb'))\n",
        "pickle.dump(xval, open('xval.sav', 'wb'))\n",
        "pickle.dump(ytrain, open('ytrain.sav', 'wb'))\n",
        "pickle.dump(ytest, open('ytest.sav', 'wb'))\n",
        "pickle.dump(yval, open('yval.sav', 'wb'))"
      ]
    }
  ],
  "metadata": {
    "colab": {
      "provenance": []
    },
    "kernelspec": {
      "display_name": "base",
      "language": "python",
      "name": "python3"
    },
    "language_info": {
      "codemirror_mode": {
        "name": "ipython",
        "version": 3
      },
      "file_extension": ".py",
      "mimetype": "text/x-python",
      "name": "python",
      "nbconvert_exporter": "python",
      "pygments_lexer": "ipython3",
      "version": "3.12.2"
    }
  },
  "nbformat": 4,
  "nbformat_minor": 0
}
