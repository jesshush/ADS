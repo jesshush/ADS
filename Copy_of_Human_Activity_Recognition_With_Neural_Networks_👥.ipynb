{
  "cells": [
    {
      "cell_type": "markdown",
      "metadata": {
        "id": "7Hkg4dsJDmnR"
      },
      "source": [
        "## Importing The Modules"
      ]
    },
    {
      "cell_type": "code",
      "execution_count": 2,
      "metadata": {
        "execution": {
          "iopub.execute_input": "2025-01-30T17:38:07.5264Z",
          "iopub.status.busy": "2025-01-30T17:38:07.525977Z",
          "iopub.status.idle": "2025-01-30T17:38:16.023906Z",
          "shell.execute_reply": "2025-01-30T17:38:16.02283Z",
          "shell.execute_reply.started": "2025-01-30T17:38:07.526308Z"
        },
        "id": "Nw5_uelBDmnS",
        "trusted": true
      },
      "outputs": [
        {
          "name": "stderr",
          "output_type": "stream",
          "text": [
            "/var/folders/g8/q_w7xsk949l0v_g2pg_1m7h80000gn/T/ipykernel_57522/2081059855.py:13: DeprecationWarning: `import kerastuner` is deprecated, please use `import keras_tuner`.\n",
            "  from kerastuner.tuners import RandomSearch\n"
          ]
        }
      ],
      "source": [
        "import numpy as np\n",
        "import pandas as pd\n",
        "import matplotlib.pyplot as plt\n",
        "import seaborn as sns\n",
        "import numpy as np # linear algebra\n",
        "import pandas as pd # data processing, CSV file I/O (e.g. pd.read_csv)\n",
        "from sklearn.preprocessing import MinMaxScaler\n",
        "from sklearn.preprocessing import LabelEncoder\n",
        "import matplotlib.pyplot as plt\n",
        "import seaborn as sns\n",
        "from keras.models import Sequential\n",
        "from keras.layers import Dense,Dropout\n",
        "from kerastuner.tuners import RandomSearch\n",
        "from kerastuner.engine.hyperparameters import HyperParameters\n",
        "import os\n",
        "import warnings\n",
        "from tensorflow import keras\n",
        "from tensorflow.keras import layers\n",
        "from kerastuner.tuners import RandomSearch\n",
        "warnings.filterwarnings('ignore')"
      ]
    },
    {
      "cell_type": "code",
      "execution_count": 3,
      "metadata": {},
      "outputs": [
        {
          "name": "stdout",
          "output_type": "stream",
          "text": [
            "Requirement already satisfied: keras-tuner in /opt/anaconda3/lib/python3.12/site-packages (1.4.7)\n",
            "Requirement already satisfied: keras in /opt/anaconda3/lib/python3.12/site-packages (from keras-tuner) (3.7.0)\n",
            "Requirement already satisfied: packaging in /opt/anaconda3/lib/python3.12/site-packages (from keras-tuner) (24.1)\n",
            "Requirement already satisfied: requests in /opt/anaconda3/lib/python3.12/site-packages (from keras-tuner) (2.32.3)\n",
            "Requirement already satisfied: kt-legacy in /opt/anaconda3/lib/python3.12/site-packages (from keras-tuner) (1.0.5)\n",
            "Requirement already satisfied: absl-py in /opt/anaconda3/lib/python3.12/site-packages (from keras->keras-tuner) (2.1.0)\n",
            "Requirement already satisfied: numpy in /opt/anaconda3/lib/python3.12/site-packages (from keras->keras-tuner) (1.26.4)\n",
            "Requirement already satisfied: rich in /opt/anaconda3/lib/python3.12/site-packages (from keras->keras-tuner) (13.7.1)\n",
            "Requirement already satisfied: namex in /opt/anaconda3/lib/python3.12/site-packages (from keras->keras-tuner) (0.0.8)\n",
            "Requirement already satisfied: h5py in /opt/anaconda3/lib/python3.12/site-packages (from keras->keras-tuner) (3.11.0)\n",
            "Requirement already satisfied: optree in /opt/anaconda3/lib/python3.12/site-packages (from keras->keras-tuner) (0.13.1)\n",
            "Requirement already satisfied: ml-dtypes in /opt/anaconda3/lib/python3.12/site-packages (from keras->keras-tuner) (0.4.1)\n",
            "Requirement already satisfied: charset-normalizer<4,>=2 in /opt/anaconda3/lib/python3.12/site-packages (from requests->keras-tuner) (3.3.2)\n",
            "Requirement already satisfied: idna<4,>=2.5 in /opt/anaconda3/lib/python3.12/site-packages (from requests->keras-tuner) (3.7)\n",
            "Requirement already satisfied: urllib3<3,>=1.21.1 in /opt/anaconda3/lib/python3.12/site-packages (from requests->keras-tuner) (2.2.3)\n",
            "Requirement already satisfied: certifi>=2017.4.17 in /opt/anaconda3/lib/python3.12/site-packages (from requests->keras-tuner) (2024.12.14)\n",
            "Requirement already satisfied: typing-extensions>=4.5.0 in /opt/anaconda3/lib/python3.12/site-packages (from optree->keras->keras-tuner) (4.11.0)\n",
            "Requirement already satisfied: markdown-it-py>=2.2.0 in /opt/anaconda3/lib/python3.12/site-packages (from rich->keras->keras-tuner) (2.2.0)\n",
            "Requirement already satisfied: pygments<3.0.0,>=2.13.0 in /opt/anaconda3/lib/python3.12/site-packages (from rich->keras->keras-tuner) (2.15.1)\n",
            "Requirement already satisfied: mdurl~=0.1 in /opt/anaconda3/lib/python3.12/site-packages (from markdown-it-py>=2.2.0->rich->keras->keras-tuner) (0.1.0)\n",
            "Note: you may need to restart the kernel to use updated packages.\n"
          ]
        }
      ],
      "source": [
        "pip install keras-tuner"
      ]
    },
    {
      "cell_type": "markdown",
      "metadata": {
        "id": "hQpKy1u_DmnT"
      },
      "source": [
        "## Reading The Data"
      ]
    },
    {
      "cell_type": "code",
      "execution_count": 4,
      "metadata": {
        "execution": {
          "iopub.execute_input": "2025-01-30T17:38:16.025551Z",
          "iopub.status.busy": "2025-01-30T17:38:16.025252Z",
          "iopub.status.idle": "2025-01-30T17:38:17.780687Z",
          "shell.execute_reply": "2025-01-30T17:38:17.779711Z",
          "shell.execute_reply.started": "2025-01-30T17:38:16.025522Z"
        },
        "id": "gMmhyZw3DmnT",
        "trusted": true
      },
      "outputs": [
        {
          "name": "stdout",
          "output_type": "stream",
          "text": [
            "Shape of train data is: (5267996, 7)\n",
            "Shape of test data is: (1193332, 7)\n"
          ]
        }
      ],
      "source": [
        "train_data = pd.read_csv('archive_harth/train.csv')\n",
        "test_data = pd.read_csv('archive_harth/test.csv')\n",
        "\n",
        "print(f'Shape of train data is: {train_data.shape}\\nShape of test data is: {test_data.shape}')"
      ]
    },
    {
      "cell_type": "markdown",
      "metadata": {
        "id": "H8f2iuNMDmnT"
      },
      "source": [
        "## Some Analysis"
      ]
    },
    {
      "cell_type": "code",
      "execution_count": 5,
      "metadata": {
        "execution": {
          "iopub.execute_input": "2025-01-30T17:38:17.782844Z",
          "iopub.status.busy": "2025-01-30T17:38:17.782572Z",
          "iopub.status.idle": "2025-01-30T17:38:17.786803Z",
          "shell.execute_reply": "2025-01-30T17:38:17.785717Z",
          "shell.execute_reply.started": "2025-01-30T17:38:17.782816Z"
        },
        "id": "dttZ46OYDmnU",
        "trusted": true
      },
      "outputs": [],
      "source": [
        "pd.set_option(\"display.max_columns\", None)\n"
      ]
    },
    {
      "cell_type": "code",
      "execution_count": 6,
      "metadata": {
        "execution": {
          "iopub.execute_input": "2025-01-30T17:38:17.788476Z",
          "iopub.status.busy": "2025-01-30T17:38:17.788203Z",
          "iopub.status.idle": "2025-01-30T17:38:18.203348Z",
          "shell.execute_reply": "2025-01-30T17:38:18.202475Z",
          "shell.execute_reply.started": "2025-01-30T17:38:17.788435Z"
        },
        "id": "z3XvXlbvDmnV",
        "trusted": true
      },
      "outputs": [
        {
          "data": {
            "text/html": [
              "<div>\n",
              "<style scoped>\n",
              "    .dataframe tbody tr th:only-of-type {\n",
              "        vertical-align: middle;\n",
              "    }\n",
              "\n",
              "    .dataframe tbody tr th {\n",
              "        vertical-align: top;\n",
              "    }\n",
              "\n",
              "    .dataframe thead th {\n",
              "        text-align: right;\n",
              "    }\n",
              "</style>\n",
              "<table border=\"1\" class=\"dataframe\">\n",
              "  <thead>\n",
              "    <tr style=\"text-align: right;\">\n",
              "      <th></th>\n",
              "      <th>Feature_1</th>\n",
              "      <th>Feature_2</th>\n",
              "      <th>Feature_3</th>\n",
              "      <th>Feature_4</th>\n",
              "      <th>Feature_5</th>\n",
              "      <th>Feature_6</th>\n",
              "      <th>Activity</th>\n",
              "    </tr>\n",
              "  </thead>\n",
              "  <tbody>\n",
              "    <tr>\n",
              "      <th>0</th>\n",
              "      <td>-0.901980</td>\n",
              "      <td>0.013708</td>\n",
              "      <td>0.541544</td>\n",
              "      <td>-1.079954</td>\n",
              "      <td>0.113521</td>\n",
              "      <td>0.144795</td>\n",
              "      <td>1.0</td>\n",
              "    </tr>\n",
              "    <tr>\n",
              "      <th>1</th>\n",
              "      <td>-0.972077</td>\n",
              "      <td>0.053302</td>\n",
              "      <td>0.503752</td>\n",
              "      <td>-1.266491</td>\n",
              "      <td>0.012782</td>\n",
              "      <td>0.136284</td>\n",
              "      <td>1.0</td>\n",
              "    </tr>\n",
              "    <tr>\n",
              "      <th>2</th>\n",
              "      <td>-1.008416</td>\n",
              "      <td>0.013308</td>\n",
              "      <td>0.484302</td>\n",
              "      <td>-1.336297</td>\n",
              "      <td>-0.053922</td>\n",
              "      <td>0.073320</td>\n",
              "      <td>1.0</td>\n",
              "    </tr>\n",
              "    <tr>\n",
              "      <th>3</th>\n",
              "      <td>-1.041245</td>\n",
              "      <td>0.036321</td>\n",
              "      <td>0.479578</td>\n",
              "      <td>-1.291301</td>\n",
              "      <td>0.132370</td>\n",
              "      <td>0.058046</td>\n",
              "      <td>1.0</td>\n",
              "    </tr>\n",
              "    <tr>\n",
              "      <th>4</th>\n",
              "      <td>-1.048913</td>\n",
              "      <td>0.028568</td>\n",
              "      <td>0.467828</td>\n",
              "      <td>-1.307763</td>\n",
              "      <td>0.446462</td>\n",
              "      <td>0.040277</td>\n",
              "      <td>1.0</td>\n",
              "    </tr>\n",
              "  </tbody>\n",
              "</table>\n",
              "</div>"
            ],
            "text/plain": [
              "   Feature_1  Feature_2  Feature_3  Feature_4  Feature_5  Feature_6  Activity\n",
              "0  -0.901980   0.013708   0.541544  -1.079954   0.113521   0.144795       1.0\n",
              "1  -0.972077   0.053302   0.503752  -1.266491   0.012782   0.136284       1.0\n",
              "2  -1.008416   0.013308   0.484302  -1.336297  -0.053922   0.073320       1.0\n",
              "3  -1.041245   0.036321   0.479578  -1.291301   0.132370   0.058046       1.0\n",
              "4  -1.048913   0.028568   0.467828  -1.307763   0.446462   0.040277       1.0"
            ]
          },
          "execution_count": 6,
          "metadata": {},
          "output_type": "execute_result"
        }
      ],
      "source": [
        "train_data.head()"
      ]
    },
    {
      "cell_type": "code",
      "execution_count": 7,
      "metadata": {
        "execution": {
          "iopub.execute_input": "2025-01-30T17:38:18.204825Z",
          "iopub.status.busy": "2025-01-30T17:38:18.204549Z",
          "iopub.status.idle": "2025-01-30T17:38:18.210671Z",
          "shell.execute_reply": "2025-01-30T17:38:18.209763Z",
          "shell.execute_reply.started": "2025-01-30T17:38:18.204798Z"
        },
        "id": "V7Z5se4EDmnV",
        "trusted": true
      },
      "outputs": [
        {
          "data": {
            "text/plain": [
              "Index(['Feature_1', 'Feature_2', 'Feature_3', 'Feature_4', 'Feature_5',\n",
              "       'Feature_6', 'Activity'],\n",
              "      dtype='object')"
            ]
          },
          "execution_count": 7,
          "metadata": {},
          "output_type": "execute_result"
        }
      ],
      "source": [
        "train_data.columns"
      ]
    },
    {
      "cell_type": "code",
      "execution_count": 8,
      "metadata": {
        "execution": {
          "iopub.execute_input": "2025-01-30T17:38:18.21206Z",
          "iopub.status.busy": "2025-01-30T17:38:18.211814Z",
          "iopub.status.idle": "2025-01-30T17:38:19.887127Z",
          "shell.execute_reply": "2025-01-30T17:38:19.886171Z",
          "shell.execute_reply.started": "2025-01-30T17:38:18.212036Z"
        },
        "id": "oMKaFeyhDmnW",
        "trusted": true
      },
      "outputs": [
        {
          "data": {
            "text/html": [
              "<div>\n",
              "<style scoped>\n",
              "    .dataframe tbody tr th:only-of-type {\n",
              "        vertical-align: middle;\n",
              "    }\n",
              "\n",
              "    .dataframe tbody tr th {\n",
              "        vertical-align: top;\n",
              "    }\n",
              "\n",
              "    .dataframe thead th {\n",
              "        text-align: right;\n",
              "    }\n",
              "</style>\n",
              "<table border=\"1\" class=\"dataframe\">\n",
              "  <thead>\n",
              "    <tr style=\"text-align: right;\">\n",
              "      <th></th>\n",
              "      <th>Feature_1</th>\n",
              "      <th>Feature_2</th>\n",
              "      <th>Feature_3</th>\n",
              "      <th>Feature_4</th>\n",
              "      <th>Feature_5</th>\n",
              "      <th>Feature_6</th>\n",
              "      <th>Activity</th>\n",
              "    </tr>\n",
              "  </thead>\n",
              "  <tbody>\n",
              "    <tr>\n",
              "      <th>count</th>\n",
              "      <td>5.267996e+06</td>\n",
              "      <td>5.267996e+06</td>\n",
              "      <td>5.267996e+06</td>\n",
              "      <td>5.267996e+06</td>\n",
              "      <td>5.267996e+06</td>\n",
              "      <td>5.267996e+06</td>\n",
              "      <td>5.267996e+06</td>\n",
              "    </tr>\n",
              "    <tr>\n",
              "      <th>mean</th>\n",
              "      <td>-8.912936e-01</td>\n",
              "      <td>-1.235684e-02</td>\n",
              "      <td>-1.746747e-01</td>\n",
              "      <td>-5.929528e-01</td>\n",
              "      <td>2.079528e-02</td>\n",
              "      <td>3.865788e-01</td>\n",
              "      <td>6.715370e+00</td>\n",
              "    </tr>\n",
              "    <tr>\n",
              "      <th>std</th>\n",
              "      <td>3.654646e-01</td>\n",
              "      <td>2.272979e-01</td>\n",
              "      <td>3.597894e-01</td>\n",
              "      <td>6.213003e-01</td>\n",
              "      <td>3.866165e-01</td>\n",
              "      <td>7.293941e-01</td>\n",
              "      <td>1.120623e+01</td>\n",
              "    </tr>\n",
              "    <tr>\n",
              "      <th>min</th>\n",
              "      <td>-8.000000e+00</td>\n",
              "      <td>-4.307617e+00</td>\n",
              "      <td>-6.574463e+00</td>\n",
              "      <td>-8.000000e+00</td>\n",
              "      <td>-7.997314e+00</td>\n",
              "      <td>-8.000000e+00</td>\n",
              "      <td>1.000000e+00</td>\n",
              "    </tr>\n",
              "    <tr>\n",
              "      <th>25%</th>\n",
              "      <td>-1.002718e+00</td>\n",
              "      <td>-7.864500e-02</td>\n",
              "      <td>-3.752620e-01</td>\n",
              "      <td>-9.740560e-01</td>\n",
              "      <td>-1.035160e-01</td>\n",
              "      <td>-1.430862e-01</td>\n",
              "      <td>3.000000e+00</td>\n",
              "    </tr>\n",
              "    <tr>\n",
              "      <th>50%</th>\n",
              "      <td>-9.760540e-01</td>\n",
              "      <td>5.398000e-03</td>\n",
              "      <td>-1.407800e-01</td>\n",
              "      <td>-4.182705e-01</td>\n",
              "      <td>3.008800e-02</td>\n",
              "      <td>7.641855e-01</td>\n",
              "      <td>7.000000e+00</td>\n",
              "    </tr>\n",
              "    <tr>\n",
              "      <th>75%</th>\n",
              "      <td>-8.331670e-01</td>\n",
              "      <td>7.414000e-02</td>\n",
              "      <td>4.400400e-02</td>\n",
              "      <td>-1.787110e-01</td>\n",
              "      <td>1.544010e-01</td>\n",
              "      <td>9.480780e-01</td>\n",
              "      <td>7.000000e+00</td>\n",
              "    </tr>\n",
              "    <tr>\n",
              "      <th>max</th>\n",
              "      <td>2.291708e+00</td>\n",
              "      <td>6.491943e+00</td>\n",
              "      <td>4.909483e+00</td>\n",
              "      <td>7.999756e+00</td>\n",
              "      <td>7.999756e+00</td>\n",
              "      <td>8.406235e+00</td>\n",
              "      <td>1.400000e+02</td>\n",
              "    </tr>\n",
              "  </tbody>\n",
              "</table>\n",
              "</div>"
            ],
            "text/plain": [
              "          Feature_1     Feature_2     Feature_3     Feature_4     Feature_5  \\\n",
              "count  5.267996e+06  5.267996e+06  5.267996e+06  5.267996e+06  5.267996e+06   \n",
              "mean  -8.912936e-01 -1.235684e-02 -1.746747e-01 -5.929528e-01  2.079528e-02   \n",
              "std    3.654646e-01  2.272979e-01  3.597894e-01  6.213003e-01  3.866165e-01   \n",
              "min   -8.000000e+00 -4.307617e+00 -6.574463e+00 -8.000000e+00 -7.997314e+00   \n",
              "25%   -1.002718e+00 -7.864500e-02 -3.752620e-01 -9.740560e-01 -1.035160e-01   \n",
              "50%   -9.760540e-01  5.398000e-03 -1.407800e-01 -4.182705e-01  3.008800e-02   \n",
              "75%   -8.331670e-01  7.414000e-02  4.400400e-02 -1.787110e-01  1.544010e-01   \n",
              "max    2.291708e+00  6.491943e+00  4.909483e+00  7.999756e+00  7.999756e+00   \n",
              "\n",
              "          Feature_6      Activity  \n",
              "count  5.267996e+06  5.267996e+06  \n",
              "mean   3.865788e-01  6.715370e+00  \n",
              "std    7.293941e-01  1.120623e+01  \n",
              "min   -8.000000e+00  1.000000e+00  \n",
              "25%   -1.430862e-01  3.000000e+00  \n",
              "50%    7.641855e-01  7.000000e+00  \n",
              "75%    9.480780e-01  7.000000e+00  \n",
              "max    8.406235e+00  1.400000e+02  "
            ]
          },
          "execution_count": 8,
          "metadata": {},
          "output_type": "execute_result"
        }
      ],
      "source": [
        "train_data.describe()"
      ]
    },
    {
      "cell_type": "code",
      "execution_count": 9,
      "metadata": {
        "execution": {
          "iopub.execute_input": "2025-01-30T17:38:19.888924Z",
          "iopub.status.busy": "2025-01-30T17:38:19.888565Z",
          "iopub.status.idle": "2025-01-30T17:38:19.89776Z",
          "shell.execute_reply": "2025-01-30T17:38:19.896813Z",
          "shell.execute_reply.started": "2025-01-30T17:38:19.888878Z"
        },
        "id": "pN7arcYWDmnW",
        "trusted": true
      },
      "outputs": [
        {
          "data": {
            "text/plain": [
              "array([  1.,   2.,   3.,   4.,   5.,   6.,   7.,   8.,  13.,  14., 130.,\n",
              "       140.])"
            ]
          },
          "execution_count": 9,
          "metadata": {},
          "output_type": "execute_result"
        }
      ],
      "source": [
        "train_data['Activity'].unique()"
      ]
    },
    {
      "cell_type": "code",
      "execution_count": 10,
      "metadata": {
        "execution": {
          "iopub.execute_input": "2025-01-30T17:38:19.899055Z",
          "iopub.status.busy": "2025-01-30T17:38:19.898787Z",
          "iopub.status.idle": "2025-01-30T17:38:20.11459Z",
          "shell.execute_reply": "2025-01-30T17:38:20.113644Z",
          "shell.execute_reply.started": "2025-01-30T17:38:19.89903Z"
        },
        "id": "9b3gyMu0DmnW",
        "trusted": true
      },
      "outputs": [
        {
          "data": {
            "text/plain": [
              "<Axes: xlabel='Activity'>"
            ]
          },
          "execution_count": 10,
          "metadata": {},
          "output_type": "execute_result"
        },
        {
          "data": {
            "image/png": "[encoded data removed]",
            "text/plain": [
              "<Figure size 640x480 with 1 Axes>"
            ]
          },
          "metadata": {},
          "output_type": "display_data"
        }
      ],
      "source": [
        "train_data['Activity'].value_counts().sort_values().plot(kind = 'bar', color = 'pink')\n"
      ]
    },
    {
      "cell_type": "markdown",
      "metadata": {
        "id": "m9nxE7M4DmnX"
      },
      "source": [
        "## Preparing Train And Test Data"
      ]
    },
    {
      "cell_type": "code",
      "execution_count": 11,
      "metadata": {
        "execution": {
          "iopub.execute_input": "2025-01-30T17:38:20.118034Z",
          "iopub.status.busy": "2025-01-30T17:38:20.117626Z",
          "iopub.status.idle": "2025-01-30T17:38:20.14489Z",
          "shell.execute_reply": "2025-01-30T17:38:20.143954Z",
          "shell.execute_reply.started": "2025-01-30T17:38:20.117989Z"
        },
        "id": "Tgz-la8pDmnX",
        "trusted": true
      },
      "outputs": [
        {
          "data": {
            "text/plain": [
              "((5267996, 5), (5267996, 1))"
            ]
          },
          "execution_count": 11,
          "metadata": {},
          "output_type": "execute_result"
        }
      ],
      "source": [
        "x_train, y_train = train_data.iloc[:, :-2], train_data.iloc[:, -1:]\n",
        "x_test, y_test = test_data.iloc[:, :-2], test_data.iloc[:, -1:]\n",
        "x_train.shape, y_train.shape"
      ]
    },
    {
      "cell_type": "code",
      "execution_count": 12,
      "metadata": {
        "execution": {
          "iopub.execute_input": "2025-01-30T17:38:20.146669Z",
          "iopub.status.busy": "2025-01-30T17:38:20.146369Z",
          "iopub.status.idle": "2025-01-30T17:38:20.166348Z",
          "shell.execute_reply": "2025-01-30T17:38:20.165459Z",
          "shell.execute_reply.started": "2025-01-30T17:38:20.146641Z"
        },
        "id": "YFz6TScRDmnX",
        "trusted": true
      },
      "outputs": [
        {
          "data": {
            "text/plain": [
              "((1193332, 5), (1193332, 1))"
            ]
          },
          "execution_count": 12,
          "metadata": {},
          "output_type": "execute_result"
        }
      ],
      "source": [
        "x_test, y_test = test_data.iloc[:, :-2], test_data.iloc[:, -1:]\n",
        "x_test.shape, y_test.shape"
      ]
    },
    {
      "cell_type": "code",
      "execution_count": 13,
      "metadata": {
        "execution": {
          "iopub.execute_input": "2025-01-30T17:38:20.167996Z",
          "iopub.status.busy": "2025-01-30T17:38:20.167654Z",
          "iopub.status.idle": "2025-01-30T17:38:20.178871Z",
          "shell.execute_reply": "2025-01-30T17:38:20.178018Z",
          "shell.execute_reply.started": "2025-01-30T17:38:20.167968Z"
        },
        "id": "p6pmDTK-DmnY",
        "trusted": true
      },
      "outputs": [],
      "source": [
        "le = LabelEncoder()\n",
        "y_train = le.fit_transform(y_train)\n",
        "y_test = le.fit_transform(y_test)\n"
      ]
    },
    {
      "cell_type": "code",
      "execution_count": 14,
      "metadata": {
        "execution": {
          "iopub.execute_input": "2025-01-30T17:38:20.180352Z",
          "iopub.status.busy": "2025-01-30T17:38:20.180035Z",
          "iopub.status.idle": "2025-01-30T17:38:20.190365Z",
          "shell.execute_reply": "2025-01-30T17:38:20.189547Z",
          "shell.execute_reply.started": "2025-01-30T17:38:20.180326Z"
        },
        "id": "8Bfpi4oWDmnY",
        "trusted": true
      },
      "outputs": [
        {
          "data": {
            "text/plain": [
              "((1193332, 5), (1193332,), (5267996, 5), (5267996,))"
            ]
          },
          "execution_count": 14,
          "metadata": {},
          "output_type": "execute_result"
        }
      ],
      "source": [
        "x_test.shape, y_test.shape, x_train.shape, y_train.shape"
      ]
    },
    {
      "cell_type": "code",
      "execution_count": 15,
      "metadata": {
        "execution": {
          "iopub.execute_input": "2025-01-30T17:38:20.19169Z",
          "iopub.status.busy": "2025-01-30T17:38:20.191444Z",
          "iopub.status.idle": "2025-01-30T17:38:20.259173Z",
          "shell.execute_reply": "2025-01-30T17:38:20.258354Z",
          "shell.execute_reply.started": "2025-01-30T17:38:20.191654Z"
        },
        "id": "nXuhcVQrDmnY",
        "trusted": true
      },
      "outputs": [],
      "source": [
        "scaling_data = MinMaxScaler()\n",
        "x_train = scaling_data.fit_transform(x_train)\n",
        "x_test = scaling_data.transform(x_test)\n"
      ]
    },
    {
      "cell_type": "markdown",
      "metadata": {
        "id": "jIBVHwYCDmnY"
      },
      "source": [
        "## Creating A Base Model\n"
      ]
    },
    {
      "cell_type": "code",
      "execution_count": null,
      "metadata": {
        "execution": {
          "iopub.execute_input": "2025-01-30T17:38:20.260833Z",
          "iopub.status.busy": "2025-01-30T17:38:20.260449Z",
          "iopub.status.idle": "2025-01-30T17:38:24.139001Z",
          "shell.execute_reply": "2025-01-30T17:38:24.138069Z",
          "shell.execute_reply.started": "2025-01-30T17:38:20.260793Z"
        },
        "id": "q9b6rI92DmnZ",
        "trusted": true
      },
      "outputs": [
        {
          "name": "stdout",
          "output_type": "stream",
          "text": [
            "Epoch 1/10\n",
            "\u001b[1m82313/82313\u001b[0m \u001b[32m━━━━━━━━━━━━━━━━━━━━\u001b[0m\u001b[37m\u001b[0m \u001b[1m69s\u001b[0m 820us/step - accuracy: 0.5313 - loss: 1.4877 - val_accuracy: 0.6178 - val_loss: 1.2403\n",
            "Epoch 2/10\n",
            "\u001b[1m82313/82313\u001b[0m \u001b[32m━━━━━━━━━━━━━━━━━━━━\u001b[0m\u001b[37m\u001b[0m \u001b[1m60s\u001b[0m 722us/step - accuracy: 0.6520 - loss: 1.1473 - val_accuracy: 0.6379 - val_loss: 1.0888\n",
            "Epoch 3/10\n",
            "\u001b[1m82313/82313\u001b[0m \u001b[32m━━━━━━━━━━━━━━━━━━━━\u001b[0m\u001b[37m\u001b[0m \u001b[1m72s\u001b[0m 870us/step - accuracy: 0.6747 - loss: 1.0405 - val_accuracy: 0.6629 - val_loss: 1.0175\n",
            "Epoch 4/10\n",
            "\u001b[1m82313/82313\u001b[0m \u001b[32m━━━━━━━━━━━━━━━━━━━━\u001b[0m\u001b[37m\u001b[0m \u001b[1m73s\u001b[0m 880us/step - accuracy: 0.6890 - loss: 0.9839 - val_accuracy: 0.6908 - val_loss: 0.9840\n",
            "Epoch 5/10\n",
            "\u001b[1m82313/82313\u001b[0m \u001b[32m━━━━━━━━━━━━━━━━━━━━\u001b[0m\u001b[37m\u001b[0m \u001b[1m95s\u001b[0m 1ms/step - accuracy: 0.6989 - loss: 0.9462 - val_accuracy: 0.7063 - val_loss: 0.9614\n",
            "Epoch 6/10\n",
            "\u001b[1m82313/82313\u001b[0m \u001b[32m━━━━━━━━━━━━━━━━━━━━\u001b[0m\u001b[37m\u001b[0m \u001b[1m113s\u001b[0m 1ms/step - accuracy: 0.7062 - loss: 0.9201 - val_accuracy: 0.7116 - val_loss: 0.9417\n",
            "Epoch 7/10\n",
            "\u001b[1m82306/82313\u001b[0m \u001b[32m━━━━━━━━━━━━━━━━━━━\u001b[0m\u001b[37m━\u001b[0m \u001b[1m0s\u001b[0m 1ms/step - accuracy: 0.7126 - loss: 0.8998"
          ]
        }
      ],
      "source": [
        "from sklearn.preprocessing import LabelEncoder\n",
        "import numpy as np\n",
        "\n",
        "# Ensure labels are properly encoded\n",
        "encoder = LabelEncoder()\n",
        "y_train = encoder.fit_transform(y_train)  # Encode training labels\n",
        "y_test = encoder.transform(y_test)       # Encode test labels\n",
        "\n",
        "# Verify the number of unique classes\n",
        "num_classes = len(np.unique(y_train))\n",
        "\n",
        "# Build the model\n",
        "model = Sequential()\n",
        "model.add(Dense(units=64, kernel_initializer='normal', activation='sigmoid', input_dim=x_train.shape[1]))\n",
        "model.add(Dropout(0.2))\n",
        "model.add(Dense(units=num_classes, kernel_initializer='normal', activation='softmax'))  # Adjust output units\n",
        "\n",
        "# Compile the model\n",
        "model.compile(optimizer='adam', loss='sparse_categorical_crossentropy', metrics=['accuracy'])\n",
        "\n",
        "# Train the model\n",
        "history = model.fit(x_train, y_train, batch_size=64, epochs=10, validation_data=(x_test, y_test))"
      ]
    },
    {
      "cell_type": "markdown",
      "metadata": {
        "id": "6svOlN_NDmnZ"
      },
      "source": [
        "## Hypertuning The Model"
      ]
    },
    {
      "cell_type": "code",
      "execution_count": null,
      "metadata": {
        "execution": {
          "iopub.execute_input": "2025-01-30T17:38:24.140738Z",
          "iopub.status.busy": "2025-01-30T17:38:24.140379Z",
          "iopub.status.idle": "2025-01-30T17:38:24.343482Z",
          "shell.execute_reply": "2025-01-30T17:38:24.342472Z",
          "shell.execute_reply.started": "2025-01-30T17:38:24.140704Z"
        },
        "id": "_fT9zMRADmnZ",
        "trusted": true
      },
      "outputs": [],
      "source": [
        "def build_model(hp):\n",
        "    model = keras.Sequential()\n",
        "    for i in range(hp.Int('num_layers', 2, 25)):\n",
        "        model.add(layers.Dense(units = hp.Int('units' + str(i), min_value=32, max_value=512, step=32),\n",
        "                               kernel_initializer= hp.Choice('initializer', ['uniform', 'normal']),\n",
        "                               activation= hp.Choice('activation', ['relu', 'sigmoid', 'tanh'])))\n",
        "    model.add(layers.Dense(6, kernel_initializer= hp.Choice('initializer', ['uniform', 'normal']), activation='softmax'))\n",
        "    model.add(\n",
        "            Dropout(0.2))\n",
        "    model.compile(\n",
        "        optimizer = 'adam',\n",
        "        loss='sparse_categorical_crossentropy',\n",
        "        metrics=['accuracy'])\n",
        "    return model\n",
        "\n",
        "\n",
        "tuner = RandomSearch(\n",
        "    build_model,\n",
        "    objective='val_accuracy',\n",
        "    max_trials= 5,\n",
        "    executions_per_trial=3,\n",
        "    directory='project', project_name = 'Human_activity_recognition')\n",
        "\n",
        "tuner.search_space_summary()\n"
      ]
    },
    {
      "cell_type": "code",
      "execution_count": null,
      "metadata": {
        "execution": {
          "iopub.execute_input": "2025-01-30T17:38:24.344842Z",
          "iopub.status.busy": "2025-01-30T17:38:24.344558Z",
          "iopub.status.idle": "2025-01-30T17:41:46.582037Z",
          "shell.execute_reply": "2025-01-30T17:41:46.580967Z",
          "shell.execute_reply.started": "2025-01-30T17:38:24.344817Z"
        },
        "id": "QajBVYpNDmnZ",
        "trusted": true
      },
      "outputs": [],
      "source": [
        "tuner.search(x_train, y_train,\n",
        "             epochs= 10,\n",
        "             validation_data=(x_test, y_test))\n"
      ]
    },
    {
      "cell_type": "code",
      "execution_count": null,
      "metadata": {
        "execution": {
          "iopub.execute_input": "2025-01-30T17:41:46.583632Z",
          "iopub.status.busy": "2025-01-30T17:41:46.583292Z",
          "iopub.status.idle": "2025-01-30T17:41:46.6101Z",
          "shell.execute_reply": "2025-01-30T17:41:46.60907Z",
          "shell.execute_reply.started": "2025-01-30T17:41:46.583602Z"
        },
        "id": "_dvJ3KgSDmna",
        "trusted": true
      },
      "outputs": [],
      "source": [
        "tuner.results_summary()\n"
      ]
    },
    {
      "cell_type": "code",
      "execution_count": null,
      "metadata": {
        "execution": {
          "iopub.execute_input": "2025-01-30T17:41:46.611931Z",
          "iopub.status.busy": "2025-01-30T17:41:46.611571Z",
          "iopub.status.idle": "2025-01-30T17:42:17.087366Z",
          "shell.execute_reply": "2025-01-30T17:42:17.086182Z",
          "shell.execute_reply.started": "2025-01-30T17:41:46.611899Z"
        },
        "id": "oi7RIMGuDmna",
        "trusted": true
      },
      "outputs": [],
      "source": [
        "model=tuner.get_best_models(num_models=1)[0]\n",
        "history = model.fit(x_train,y_train, epochs=51, validation_data=(x_test,y_test))\n",
        "\n"
      ]
    },
    {
      "cell_type": "code",
      "execution_count": null,
      "metadata": {
        "execution": {
          "iopub.execute_input": "2025-01-30T17:42:17.089305Z",
          "iopub.status.busy": "2025-01-30T17:42:17.089019Z",
          "iopub.status.idle": "2025-01-30T17:42:21.292125Z",
          "shell.execute_reply": "2025-01-30T17:42:21.291188Z",
          "shell.execute_reply.started": "2025-01-30T17:42:17.089277Z"
        },
        "id": "6mRzIUhQDmna",
        "trusted": true
      },
      "outputs": [],
      "source": [
        "model.summary()\n",
        "import tensorflow as tf\n",
        "\n",
        "from tensorflow import keras\n",
        "\n",
        "Callback = tf.keras.callbacks.EarlyStopping(monitor='accuracy', patience=3)\n",
        "mo_fitt = model.fit(x_train,y_train, epochs=10, validation_data=(x_test,y_test), callbacks=Callback)\n",
        "print(mo_fitt.history.keys())\n"
      ]
    },
    {
      "cell_type": "code",
      "execution_count": null,
      "metadata": {
        "execution": {
          "iopub.execute_input": "2025-01-30T17:46:38.717977Z",
          "iopub.status.busy": "2025-01-30T17:46:38.717629Z",
          "iopub.status.idle": "2025-01-30T17:46:38.998373Z",
          "shell.execute_reply": "2025-01-30T17:46:38.997392Z",
          "shell.execute_reply.started": "2025-01-30T17:46:38.717951Z"
        },
        "id": "q6WHxv8iDmna",
        "trusted": true
      },
      "outputs": [],
      "source": [
        "accuracy = mo_fitt.history['accuracy']\n",
        "loss = mo_fitt.history['loss']\n",
        "validation_loss = mo_fitt.history['val_loss']\n",
        "validation_accuracy = mo_fitt.history['val_accuracy']\n",
        "\n",
        "\n",
        "plt.figure(figsize=(15, 7))\n",
        "\n",
        "plt.subplot(2, 2, 1)\n",
        "plt.plot(range(len(accuracy)), accuracy, label='Training Accuracy')\n",
        "plt.plot(range(len(validation_accuracy)), validation_accuracy, label='Validation Accuracy')\n",
        "plt.legend(loc='upper left')\n",
        "plt.title('Accuracy : Training Vs Validation')\n",
        "\n",
        "plt.subplot(2, 2, 2)\n",
        "plt.plot(range(len(loss)), loss, label='Training Loss')\n",
        "plt.plot(range(len(validation_loss)), validation_loss, label='Validation Loss')\n",
        "plt.legend(loc='upper right')\n",
        "plt.title('Loss : Training Vs Validation')\n",
        "\n",
        "plt.show()\n"
      ]
    },
    {
      "cell_type": "markdown",
      "metadata": {
        "id": "r9YJfiOcDmna"
      },
      "source": [
        "## Conclusion :\n",
        "\n",
        "> After hypertuning the model, it is found out that 4 layers should be there.\n",
        "> Final accuracy achieved is 0.9518."
      ]
    },
    {
      "cell_type": "markdown",
      "metadata": {
        "id": "g3gePAQPDmnb"
      },
      "source": []
    },
    {
      "cell_type": "code",
      "execution_count": null,
      "metadata": {
        "execution": {
          "iopub.status.busy": "2025-01-30T17:42:21.600302Z",
          "iopub.status.idle": "2025-01-30T17:42:21.60065Z",
          "shell.execute_reply": "2025-01-30T17:42:21.600494Z"
        },
        "id": "stAJvG0ADmnb",
        "trusted": true
      },
      "outputs": [],
      "source": [
        "model"
      ]
    }
  ],
  "metadata": {
    "colab": {
      "provenance": []
    },
    "kaggle": {
      "accelerator": "none",
      "dataSources": [
        {
          "datasetId": 226,
          "sourceId": 793070,
          "sourceType": "datasetVersion"
        }
      ],
      "dockerImageVersionId": 30120,
      "isGpuEnabled": false,
      "isInternetEnabled": true,
      "language": "python",
      "sourceType": "notebook"
    },
    "kernelspec": {
      "display_name": "base",
      "language": "python",
      "name": "python3"
    },
    "language_info": {
      "codemirror_mode": {
        "name": "ipython",
        "version": 3
      },
      "file_extension": ".py",
      "mimetype": "text/x-python",
      "name": "python",
      "nbconvert_exporter": "python",
      "pygments_lexer": "ipython3",
      "version": "3.12.2"
    }
  },
  "nbformat": 4,
  "nbformat_minor": 0
}
