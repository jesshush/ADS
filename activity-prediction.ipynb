{
 "cells": [
  {
   "cell_type": "code",
   "execution_count": 18,
   "id": "39d6b00f",
   "metadata": {
    "_cell_guid": "b1076dfc-b9ad-4769-8c92-a6c4dae69d19",
    "_uuid": "8f2839f25d086af736a60e9eeb907d3b93b6e0e5",
    "execution": {
     "iopub.execute_input": "2024-08-23T18:49:58.743567Z",
     "iopub.status.busy": "2024-08-23T18:49:58.742983Z",
     "iopub.status.idle": "2024-08-23T18:49:59.627248Z",
     "shell.execute_reply": "2024-08-23T18:49:59.625977Z"
    },
    "papermill": {
     "duration": 0.898248,
     "end_time": "2024-08-23T18:49:59.630126",
     "exception": false,
     "start_time": "2024-08-23T18:49:58.731878",
     "status": "completed"
    },
    "tags": []
   },
   "outputs": [],
   "source": [
    "import numpy as np \n",
    "import pandas as pd\n",
    "import os\n",
    "for dirname, _, filenames in os.walk('/kaggle/input'):\n",
    "    for filename in filenames:\n",
    "        print(os.path.join(dirname, filename))"
   ]
  },
  {
   "cell_type": "code",
   "execution_count": 19,
   "id": "cb1181d1",
   "metadata": {
    "execution": {
     "iopub.execute_input": "2024-08-23T18:49:59.649491Z",
     "iopub.status.busy": "2024-08-23T18:49:59.648885Z",
     "iopub.status.idle": "2024-08-23T18:50:18.219575Z",
     "shell.execute_reply": "2024-08-23T18:50:18.218119Z"
    },
    "papermill": {
     "duration": 18.583677,
     "end_time": "2024-08-23T18:50:18.222666",
     "exception": false,
     "start_time": "2024-08-23T18:49:59.638989",
     "status": "completed"
    },
    "tags": []
   },
   "outputs": [
    {
     "name": "stdout",
     "output_type": "stream",
     "text": [
      "Requirement already satisfied: wolta in /opt/anaconda3/lib/python3.12/site-packages (0.3.7)\n",
      "Requirement already satisfied: scikit-learn in /opt/anaconda3/lib/python3.12/site-packages (from wolta) (1.5.1)\n",
      "Requirement already satisfied: pandas in /opt/anaconda3/lib/python3.12/site-packages (from wolta) (2.2.2)\n",
      "Requirement already satisfied: numpy in /opt/anaconda3/lib/python3.12/site-packages (from wolta) (1.26.4)\n",
      "Requirement already satisfied: hyperopt in /opt/anaconda3/lib/python3.12/site-packages (from wolta) (0.2.7)\n",
      "Requirement already satisfied: catboost in /opt/anaconda3/lib/python3.12/site-packages (from wolta) (1.2.7)\n",
      "Requirement already satisfied: imblearn in /opt/anaconda3/lib/python3.12/site-packages (from wolta) (0.0)\n",
      "Requirement already satisfied: lightgbm in /opt/anaconda3/lib/python3.12/site-packages (from wolta) (4.6.0)\n",
      "Requirement already satisfied: matplotlib in /opt/anaconda3/lib/python3.12/site-packages (from wolta) (3.9.2)\n",
      "Requirement already satisfied: opencv-python in /opt/anaconda3/lib/python3.12/site-packages (from wolta) (4.11.0.86)\n",
      "Requirement already satisfied: graphviz in /opt/anaconda3/lib/python3.12/site-packages (from catboost->wolta) (0.20.3)\n",
      "Requirement already satisfied: scipy in /opt/anaconda3/lib/python3.12/site-packages (from catboost->wolta) (1.13.1)\n",
      "Requirement already satisfied: plotly in /opt/anaconda3/lib/python3.12/site-packages (from catboost->wolta) (5.24.1)\n",
      "Requirement already satisfied: six in /opt/anaconda3/lib/python3.12/site-packages (from catboost->wolta) (1.16.0)\n",
      "Requirement already satisfied: python-dateutil>=2.8.2 in /opt/anaconda3/lib/python3.12/site-packages (from pandas->wolta) (2.9.0.post0)\n",
      "Requirement already satisfied: pytz>=2020.1 in /opt/anaconda3/lib/python3.12/site-packages (from pandas->wolta) (2024.1)\n",
      "Requirement already satisfied: tzdata>=2022.7 in /opt/anaconda3/lib/python3.12/site-packages (from pandas->wolta) (2023.3)\n",
      "Requirement already satisfied: networkx>=2.2 in /opt/anaconda3/lib/python3.12/site-packages (from hyperopt->wolta) (3.3)\n",
      "Requirement already satisfied: future in /opt/anaconda3/lib/python3.12/site-packages (from hyperopt->wolta) (1.0.0)\n",
      "Requirement already satisfied: tqdm in /opt/anaconda3/lib/python3.12/site-packages (from hyperopt->wolta) (4.66.5)\n",
      "Requirement already satisfied: cloudpickle in /opt/anaconda3/lib/python3.12/site-packages (from hyperopt->wolta) (3.0.0)\n",
      "Requirement already satisfied: py4j in /opt/anaconda3/lib/python3.12/site-packages (from hyperopt->wolta) (0.10.9.9)\n",
      "Requirement already satisfied: imbalanced-learn in /opt/anaconda3/lib/python3.12/site-packages (from imblearn->wolta) (0.12.3)\n",
      "Requirement already satisfied: contourpy>=1.0.1 in /opt/anaconda3/lib/python3.12/site-packages (from matplotlib->wolta) (1.2.0)\n",
      "Requirement already satisfied: cycler>=0.10 in /opt/anaconda3/lib/python3.12/site-packages (from matplotlib->wolta) (0.11.0)\n",
      "Requirement already satisfied: fonttools>=4.22.0 in /opt/anaconda3/lib/python3.12/site-packages (from matplotlib->wolta) (4.51.0)\n",
      "Requirement already satisfied: kiwisolver>=1.3.1 in /opt/anaconda3/lib/python3.12/site-packages (from matplotlib->wolta) (1.4.4)\n",
      "Requirement already satisfied: packaging>=20.0 in /opt/anaconda3/lib/python3.12/site-packages (from matplotlib->wolta) (24.1)\n",
      "Requirement already satisfied: pillow>=8 in /opt/anaconda3/lib/python3.12/site-packages (from matplotlib->wolta) (10.4.0)\n",
      "Requirement already satisfied: pyparsing>=2.3.1 in /opt/anaconda3/lib/python3.12/site-packages (from matplotlib->wolta) (3.1.2)\n",
      "Requirement already satisfied: joblib>=1.2.0 in /opt/anaconda3/lib/python3.12/site-packages (from scikit-learn->wolta) (1.4.2)\n",
      "Requirement already satisfied: threadpoolctl>=3.1.0 in /opt/anaconda3/lib/python3.12/site-packages (from scikit-learn->wolta) (3.5.0)\n",
      "Requirement already satisfied: tenacity>=6.2.0 in /opt/anaconda3/lib/python3.12/site-packages (from plotly->catboost->wolta) (8.2.3)\n"
     ]
    }
   ],
   "source": [
    "!pip install wolta"
   ]
  },
  {
   "cell_type": "markdown",
   "id": "79bfd168",
   "metadata": {
    "papermill": {
     "duration": 0.009304,
     "end_time": "2024-08-23T18:50:18.243018",
     "exception": false,
     "start_time": "2024-08-23T18:50:18.233714",
     "status": "completed"
    },
    "tags": []
   },
   "source": [
    "# Data Init"
   ]
  },
  {
   "cell_type": "code",
   "execution_count": 20,
   "id": "5d114fe3",
   "metadata": {
    "execution": {
     "iopub.execute_input": "2024-08-23T18:50:18.264351Z",
     "iopub.status.busy": "2024-08-23T18:50:18.263845Z",
     "iopub.status.idle": "2024-08-23T18:50:30.664721Z",
     "shell.execute_reply": "2024-08-23T18:50:30.663176Z"
    },
    "papermill": {
     "duration": 12.415596,
     "end_time": "2024-08-23T18:50:30.668109",
     "exception": false,
     "start_time": "2024-08-23T18:50:18.252513",
     "status": "completed"
    },
    "tags": []
   },
   "outputs": [],
   "source": [
    "from glob import glob\n",
    "from wolta.data_tools import load_by_parts\n",
    "\n",
    "paths = glob('archive_harth/train.csv')\n",
    "df = load_by_parts(paths, shuffle=True)"
   ]
  },
  {
   "cell_type": "markdown",
   "id": "1911a5f6",
   "metadata": {
    "papermill": {
     "duration": 0.010062,
     "end_time": "2024-08-23T18:50:30.688559",
     "exception": false,
     "start_time": "2024-08-23T18:50:30.678497",
     "status": "completed"
    },
    "tags": []
   },
   "source": [
    "# Data Analysis"
   ]
  },
  {
   "cell_type": "code",
   "execution_count": 21,
   "id": "fee41a16",
   "metadata": {
    "execution": {
     "iopub.execute_input": "2024-08-23T18:50:30.710406Z",
     "iopub.status.busy": "2024-08-23T18:50:30.709807Z",
     "iopub.status.idle": "2024-08-23T18:50:30.742550Z",
     "shell.execute_reply": "2024-08-23T18:50:30.741441Z"
    },
    "papermill": {
     "duration": 0.047005,
     "end_time": "2024-08-23T18:50:30.745364",
     "exception": false,
     "start_time": "2024-08-23T18:50:30.698359",
     "status": "completed"
    },
    "tags": []
   },
   "outputs": [
    {
     "data": {
      "text/html": [
       "<div>\n",
       "<style scoped>\n",
       "    .dataframe tbody tr th:only-of-type {\n",
       "        vertical-align: middle;\n",
       "    }\n",
       "\n",
       "    .dataframe tbody tr th {\n",
       "        vertical-align: top;\n",
       "    }\n",
       "\n",
       "    .dataframe thead th {\n",
       "        text-align: right;\n",
       "    }\n",
       "</style>\n",
       "<table border=\"1\" class=\"dataframe\">\n",
       "  <thead>\n",
       "    <tr style=\"text-align: right;\">\n",
       "      <th></th>\n",
       "      <th>Feature_1</th>\n",
       "      <th>Feature_2</th>\n",
       "      <th>Feature_3</th>\n",
       "      <th>Feature_4</th>\n",
       "      <th>Feature_5</th>\n",
       "      <th>Feature_6</th>\n",
       "      <th>Activity</th>\n",
       "    </tr>\n",
       "  </thead>\n",
       "  <tbody>\n",
       "    <tr>\n",
       "      <th>0</th>\n",
       "      <td>-1.241699</td>\n",
       "      <td>-0.607422</td>\n",
       "      <td>-0.385254</td>\n",
       "      <td>-1.983887</td>\n",
       "      <td>-0.022705</td>\n",
       "      <td>-2.063721</td>\n",
       "      <td>1.0</td>\n",
       "    </tr>\n",
       "    <tr>\n",
       "      <th>1</th>\n",
       "      <td>0.088379</td>\n",
       "      <td>-0.252441</td>\n",
       "      <td>-0.208984</td>\n",
       "      <td>-1.979736</td>\n",
       "      <td>-0.484619</td>\n",
       "      <td>-2.411377</td>\n",
       "      <td>2.0</td>\n",
       "    </tr>\n",
       "    <tr>\n",
       "      <th>2</th>\n",
       "      <td>-0.714813</td>\n",
       "      <td>0.035192</td>\n",
       "      <td>-0.702726</td>\n",
       "      <td>0.073036</td>\n",
       "      <td>0.078241</td>\n",
       "      <td>1.002387</td>\n",
       "      <td>7.0</td>\n",
       "    </tr>\n",
       "    <tr>\n",
       "      <th>3</th>\n",
       "      <td>-0.085216</td>\n",
       "      <td>1.006499</td>\n",
       "      <td>0.034879</td>\n",
       "      <td>-0.091834</td>\n",
       "      <td>0.980526</td>\n",
       "      <td>0.091944</td>\n",
       "      <td>8.0</td>\n",
       "    </tr>\n",
       "    <tr>\n",
       "      <th>4</th>\n",
       "      <td>-1.611328</td>\n",
       "      <td>0.263184</td>\n",
       "      <td>-0.442627</td>\n",
       "      <td>-1.441406</td>\n",
       "      <td>0.056641</td>\n",
       "      <td>0.040771</td>\n",
       "      <td>2.0</td>\n",
       "    </tr>\n",
       "  </tbody>\n",
       "</table>\n",
       "</div>"
      ],
      "text/plain": [
       "   Feature_1  Feature_2  Feature_3  Feature_4  Feature_5  Feature_6  Activity\n",
       "0  -1.241699  -0.607422  -0.385254  -1.983887  -0.022705  -2.063721       1.0\n",
       "1   0.088379  -0.252441  -0.208984  -1.979736  -0.484619  -2.411377       2.0\n",
       "2  -0.714813   0.035192  -0.702726   0.073036   0.078241   1.002387       7.0\n",
       "3  -0.085216   1.006499   0.034879  -0.091834   0.980526   0.091944       8.0\n",
       "4  -1.611328   0.263184  -0.442627  -1.441406   0.056641   0.040771       2.0"
      ]
     },
     "execution_count": 21,
     "metadata": {},
     "output_type": "execute_result"
    }
   ],
   "source": [
    "df.head()"
   ]
  },
  {
   "cell_type": "code",
   "execution_count": 22,
   "id": "8773cf96",
   "metadata": {
    "execution": {
     "iopub.execute_input": "2024-08-23T18:50:30.768387Z",
     "iopub.status.busy": "2024-08-23T18:50:30.767495Z",
     "iopub.status.idle": "2024-08-23T18:50:30.775111Z",
     "shell.execute_reply": "2024-08-23T18:50:30.773968Z"
    },
    "papermill": {
     "duration": 0.021795,
     "end_time": "2024-08-23T18:50:30.777767",
     "exception": false,
     "start_time": "2024-08-23T18:50:30.755972",
     "status": "completed"
    },
    "tags": []
   },
   "outputs": [
    {
     "data": {
      "text/plain": [
       "(5267996, 7)"
      ]
     },
     "execution_count": 22,
     "metadata": {},
     "output_type": "execute_result"
    }
   ],
   "source": [
    "df.shape"
   ]
  },
  {
   "cell_type": "code",
   "execution_count": 24,
   "id": "fb9161e6",
   "metadata": {
    "execution": {
     "iopub.execute_input": "2024-08-23T18:50:30.799708Z",
     "iopub.status.busy": "2024-08-23T18:50:30.799243Z",
     "iopub.status.idle": "2024-08-23T18:50:30.806266Z",
     "shell.execute_reply": "2024-08-23T18:50:30.805114Z"
    },
    "papermill": {
     "duration": 0.02092,
     "end_time": "2024-08-23T18:50:30.808791",
     "exception": false,
     "start_time": "2024-08-23T18:50:30.787871",
     "status": "completed"
    },
    "tags": []
   },
   "outputs": [
    {
     "name": "stdout",
     "output_type": "stream",
     "text": [
      "Feature_1: float64\n",
      "Feature_2: float64\n",
      "Feature_3: float64\n",
      "Feature_4: float64\n",
      "Feature_5: float64\n",
      "Feature_6: float64\n",
      "Activity: float64\n"
     ]
    }
   ],
   "source": [
    "from wolta.data_tools import col_types\n",
    "\n",
    "types = col_types(df, print_columns=True)"
   ]
  },
  {
   "cell_type": "code",
   "execution_count": 25,
   "id": "58768d29",
   "metadata": {
    "execution": {
     "iopub.execute_input": "2024-08-23T18:50:30.831238Z",
     "iopub.status.busy": "2024-08-23T18:50:30.830715Z",
     "iopub.status.idle": "2024-08-23T18:50:30.906976Z",
     "shell.execute_reply": "2024-08-23T18:50:30.905759Z"
    },
    "papermill": {
     "duration": 0.091092,
     "end_time": "2024-08-23T18:50:30.910179",
     "exception": false,
     "start_time": "2024-08-23T18:50:30.819087",
     "status": "completed"
    },
    "tags": []
   },
   "outputs": [],
   "source": [
    "from wolta.data_tools import seek_null\n",
    "\n",
    "seeked = seek_null(df, print_columns=True)"
   ]
  },
  {
   "cell_type": "code",
   "execution_count": 26,
   "id": "7f53c313",
   "metadata": {
    "execution": {
     "iopub.execute_input": "2024-08-23T18:50:30.932229Z",
     "iopub.status.busy": "2024-08-23T18:50:30.931737Z",
     "iopub.status.idle": "2024-08-23T18:50:34.504485Z",
     "shell.execute_reply": "2024-08-23T18:50:34.503216Z"
    },
    "papermill": {
     "duration": 3.586793,
     "end_time": "2024-08-23T18:50:34.507179",
     "exception": false,
     "start_time": "2024-08-23T18:50:30.920386",
     "status": "completed"
    },
    "tags": []
   },
   "outputs": [
    {
     "data": {
      "text/plain": [
       "{'Feature_1': 849249,\n",
       " 'Feature_2': 712150,\n",
       " 'Feature_3': 1204601,\n",
       " 'Feature_4': 1372309,\n",
       " 'Feature_5': 1005253,\n",
       " 'Feature_6': 1255101,\n",
       " 'Activity': 12}"
      ]
     },
     "execution_count": 26,
     "metadata": {},
     "output_type": "execute_result"
    }
   ],
   "source": [
    "from wolta.data_tools import unique_amounts\n",
    "\n",
    "unique_amounts(df)"
   ]
  },
  {
   "cell_type": "code",
   "execution_count": 27,
   "id": "da06be7f",
   "metadata": {
    "execution": {
     "iopub.execute_input": "2024-08-23T18:50:34.530070Z",
     "iopub.status.busy": "2024-08-23T18:50:34.529082Z",
     "iopub.status.idle": "2024-08-23T18:50:36.813013Z",
     "shell.execute_reply": "2024-08-23T18:50:36.811783Z"
    },
    "papermill": {
     "duration": 2.298253,
     "end_time": "2024-08-23T18:50:36.815763",
     "exception": false,
     "start_time": "2024-08-23T18:50:34.517510",
     "status": "completed"
    },
    "tags": []
   },
   "outputs": [
    {
     "data": {
      "text/html": [
       "<div>\n",
       "<style scoped>\n",
       "    .dataframe tbody tr th:only-of-type {\n",
       "        vertical-align: middle;\n",
       "    }\n",
       "\n",
       "    .dataframe tbody tr th {\n",
       "        vertical-align: top;\n",
       "    }\n",
       "\n",
       "    .dataframe thead th {\n",
       "        text-align: right;\n",
       "    }\n",
       "</style>\n",
       "<table border=\"1\" class=\"dataframe\">\n",
       "  <thead>\n",
       "    <tr style=\"text-align: right;\">\n",
       "      <th></th>\n",
       "      <th>Feature_1</th>\n",
       "      <th>Feature_2</th>\n",
       "      <th>Feature_3</th>\n",
       "      <th>Feature_4</th>\n",
       "      <th>Feature_5</th>\n",
       "      <th>Feature_6</th>\n",
       "      <th>Activity</th>\n",
       "    </tr>\n",
       "  </thead>\n",
       "  <tbody>\n",
       "    <tr>\n",
       "      <th>count</th>\n",
       "      <td>5.267996e+06</td>\n",
       "      <td>5.267996e+06</td>\n",
       "      <td>5.267996e+06</td>\n",
       "      <td>5.267996e+06</td>\n",
       "      <td>5.267996e+06</td>\n",
       "      <td>5.267996e+06</td>\n",
       "      <td>5.267996e+06</td>\n",
       "    </tr>\n",
       "    <tr>\n",
       "      <th>mean</th>\n",
       "      <td>-8.912936e-01</td>\n",
       "      <td>-1.235684e-02</td>\n",
       "      <td>-1.746747e-01</td>\n",
       "      <td>-5.929528e-01</td>\n",
       "      <td>2.079528e-02</td>\n",
       "      <td>3.865788e-01</td>\n",
       "      <td>6.715370e+00</td>\n",
       "    </tr>\n",
       "    <tr>\n",
       "      <th>std</th>\n",
       "      <td>3.654646e-01</td>\n",
       "      <td>2.272979e-01</td>\n",
       "      <td>3.597894e-01</td>\n",
       "      <td>6.213003e-01</td>\n",
       "      <td>3.866165e-01</td>\n",
       "      <td>7.293941e-01</td>\n",
       "      <td>1.120623e+01</td>\n",
       "    </tr>\n",
       "    <tr>\n",
       "      <th>min</th>\n",
       "      <td>-8.000000e+00</td>\n",
       "      <td>-4.307617e+00</td>\n",
       "      <td>-6.574463e+00</td>\n",
       "      <td>-8.000000e+00</td>\n",
       "      <td>-7.997314e+00</td>\n",
       "      <td>-8.000000e+00</td>\n",
       "      <td>1.000000e+00</td>\n",
       "    </tr>\n",
       "    <tr>\n",
       "      <th>25%</th>\n",
       "      <td>-1.002718e+00</td>\n",
       "      <td>-7.864500e-02</td>\n",
       "      <td>-3.752620e-01</td>\n",
       "      <td>-9.740560e-01</td>\n",
       "      <td>-1.035160e-01</td>\n",
       "      <td>-1.430862e-01</td>\n",
       "      <td>3.000000e+00</td>\n",
       "    </tr>\n",
       "    <tr>\n",
       "      <th>50%</th>\n",
       "      <td>-9.760540e-01</td>\n",
       "      <td>5.398000e-03</td>\n",
       "      <td>-1.407800e-01</td>\n",
       "      <td>-4.182705e-01</td>\n",
       "      <td>3.008800e-02</td>\n",
       "      <td>7.641855e-01</td>\n",
       "      <td>7.000000e+00</td>\n",
       "    </tr>\n",
       "    <tr>\n",
       "      <th>75%</th>\n",
       "      <td>-8.331670e-01</td>\n",
       "      <td>7.414000e-02</td>\n",
       "      <td>4.400400e-02</td>\n",
       "      <td>-1.787110e-01</td>\n",
       "      <td>1.544010e-01</td>\n",
       "      <td>9.480780e-01</td>\n",
       "      <td>7.000000e+00</td>\n",
       "    </tr>\n",
       "    <tr>\n",
       "      <th>max</th>\n",
       "      <td>2.291708e+00</td>\n",
       "      <td>6.491943e+00</td>\n",
       "      <td>4.909483e+00</td>\n",
       "      <td>7.999756e+00</td>\n",
       "      <td>7.999756e+00</td>\n",
       "      <td>8.406235e+00</td>\n",
       "      <td>1.400000e+02</td>\n",
       "    </tr>\n",
       "  </tbody>\n",
       "</table>\n",
       "</div>"
      ],
      "text/plain": [
       "          Feature_1     Feature_2     Feature_3     Feature_4     Feature_5  \\\n",
       "count  5.267996e+06  5.267996e+06  5.267996e+06  5.267996e+06  5.267996e+06   \n",
       "mean  -8.912936e-01 -1.235684e-02 -1.746747e-01 -5.929528e-01  2.079528e-02   \n",
       "std    3.654646e-01  2.272979e-01  3.597894e-01  6.213003e-01  3.866165e-01   \n",
       "min   -8.000000e+00 -4.307617e+00 -6.574463e+00 -8.000000e+00 -7.997314e+00   \n",
       "25%   -1.002718e+00 -7.864500e-02 -3.752620e-01 -9.740560e-01 -1.035160e-01   \n",
       "50%   -9.760540e-01  5.398000e-03 -1.407800e-01 -4.182705e-01  3.008800e-02   \n",
       "75%   -8.331670e-01  7.414000e-02  4.400400e-02 -1.787110e-01  1.544010e-01   \n",
       "max    2.291708e+00  6.491943e+00  4.909483e+00  7.999756e+00  7.999756e+00   \n",
       "\n",
       "          Feature_6      Activity  \n",
       "count  5.267996e+06  5.267996e+06  \n",
       "mean   3.865788e-01  6.715370e+00  \n",
       "std    7.293941e-01  1.120623e+01  \n",
       "min   -8.000000e+00  1.000000e+00  \n",
       "25%   -1.430862e-01  3.000000e+00  \n",
       "50%    7.641855e-01  7.000000e+00  \n",
       "75%    9.480780e-01  7.000000e+00  \n",
       "max    8.406235e+00  1.400000e+02  "
      ]
     },
     "execution_count": 27,
     "metadata": {},
     "output_type": "execute_result"
    }
   ],
   "source": [
    "df.describe()"
   ]
  },
  {
   "cell_type": "code",
   "execution_count": 28,
   "id": "854a2bbb",
   "metadata": {
    "execution": {
     "iopub.execute_input": "2024-08-23T18:50:36.839710Z",
     "iopub.status.busy": "2024-08-23T18:50:36.838665Z",
     "iopub.status.idle": "2024-08-23T18:50:37.920233Z",
     "shell.execute_reply": "2024-08-23T18:50:37.918958Z"
    },
    "papermill": {
     "duration": 1.096396,
     "end_time": "2024-08-23T18:50:37.922868",
     "exception": false,
     "start_time": "2024-08-23T18:50:36.826472",
     "status": "completed"
    },
    "tags": []
   },
   "outputs": [
    {
     "name": "stdout",
     "output_type": "stream",
     "text": [
      "Feature_1\n",
      "max: 2.291708\n",
      "min: -8.0\n",
      "width: 10.291708\n",
      "variance: 0.13356435943371256\n",
      "median: -0.976054\n",
      "***\n",
      "Feature_2\n",
      "max: 6.491943\n",
      "min: -4.307617\n",
      "width: 10.79956\n",
      "variance: 0.051664336599623883\n",
      "median: 0.005398\n",
      "***\n",
      "Feature_3\n",
      "max: 4.909483\n",
      "min: -6.574463\n",
      "width: 11.483946\n",
      "variance: 0.1294484078058243\n",
      "median: -0.14078\n",
      "***\n",
      "Feature_4\n",
      "max: 7.999756\n",
      "min: -8.0\n",
      "width: 15.999756\n",
      "variance: 0.38601393632383096\n",
      "median: -0.4182705\n",
      "***\n",
      "Feature_5\n",
      "max: 7.999756\n",
      "min: -7.997314\n",
      "width: 15.99707\n",
      "variance: 0.14947227295393817\n",
      "median: 0.030088\n",
      "***\n",
      "Feature_6\n",
      "max: 8.406235\n",
      "min: -8.0\n",
      "width: 16.406235000000002\n",
      "variance: 0.532015616701573\n",
      "median: 0.7641855\n",
      "***\n",
      "Activity\n",
      "max: 140.0\n",
      "min: 1.0\n",
      "width: 139.0\n",
      "variance: 125.57949032675644\n",
      "median: 7.0\n",
      "***\n"
     ]
    }
   ],
   "source": [
    "from wolta.data_tools import stat_sum\n",
    "\n",
    "stat_sum(df,\n",
    "        ['max', 'min', 'width', 'var', 'med'])"
   ]
  },
  {
   "cell_type": "code",
   "execution_count": 29,
   "id": "ff78221f",
   "metadata": {
    "execution": {
     "iopub.execute_input": "2024-08-23T18:50:37.949142Z",
     "iopub.status.busy": "2024-08-23T18:50:37.948506Z",
     "iopub.status.idle": "2024-08-23T18:50:38.369321Z",
     "shell.execute_reply": "2024-08-23T18:50:38.368055Z"
    },
    "papermill": {
     "duration": 0.439752,
     "end_time": "2024-08-23T18:50:38.373843",
     "exception": false,
     "start_time": "2024-08-23T18:50:37.934091",
     "status": "completed"
    },
    "tags": []
   },
   "outputs": [
    {
     "data": {
      "text/plain": [
       "<Axes: ylabel='count'>"
      ]
     },
     "execution_count": 29,
     "metadata": {},
     "output_type": "execute_result"
    },
    {
     "data": {
      "image/png": "[encoded data removed]",
      "text/plain": [
       "<Figure size 640x480 with 1 Axes>"
      ]
     },
     "metadata": {},
     "output_type": "display_data"
    }
   ],
   "source": [
    "df['Activity'].value_counts().plot(kind='pie')"
   ]
  },
  {
   "cell_type": "markdown",
   "id": "44d46bbd",
   "metadata": {
    "papermill": {
     "duration": 0.016325,
     "end_time": "2024-08-23T18:50:38.417370",
     "exception": false,
     "start_time": "2024-08-23T18:50:38.401045",
     "status": "completed"
    },
    "tags": []
   },
   "source": [
    "# Data Preparation"
   ]
  },
  {
   "cell_type": "code",
   "execution_count": 30,
   "id": "3a5dee92",
   "metadata": {
    "execution": {
     "iopub.execute_input": "2024-08-23T18:50:38.443316Z",
     "iopub.status.busy": "2024-08-23T18:50:38.442827Z",
     "iopub.status.idle": "2024-08-23T18:50:38.682434Z",
     "shell.execute_reply": "2024-08-23T18:50:38.681047Z"
    },
    "papermill": {
     "duration": 0.256343,
     "end_time": "2024-08-23T18:50:38.685797",
     "exception": false,
     "start_time": "2024-08-23T18:50:38.429454",
     "status": "completed"
    },
    "tags": []
   },
   "outputs": [],
   "source": [
    "df = df[(df['Activity'] == 1.0) | (df['Activity'] == 6.0) | (df['Activity'] == 7.0)]"
   ]
  },
  {
   "cell_type": "code",
   "execution_count": 31,
   "id": "75790947",
   "metadata": {
    "execution": {
     "iopub.execute_input": "2024-08-23T18:50:38.715000Z",
     "iopub.status.busy": "2024-08-23T18:50:38.713642Z",
     "iopub.status.idle": "2024-08-23T18:50:38.929104Z",
     "shell.execute_reply": "2024-08-23T18:50:38.927507Z"
    },
    "papermill": {
     "duration": 0.234515,
     "end_time": "2024-08-23T18:50:38.932427",
     "exception": false,
     "start_time": "2024-08-23T18:50:38.697912",
     "status": "completed"
    },
    "tags": []
   },
   "outputs": [
    {
     "data": {
      "text/plain": [
       "<Axes: ylabel='count'>"
      ]
     },
     "execution_count": 31,
     "metadata": {},
     "output_type": "execute_result"
    },
    {
     "data": {
      "image/png": "[encoded data removed]",
      "text/plain": [
       "<Figure size 640x480 with 1 Axes>"
      ]
     },
     "metadata": {},
     "output_type": "display_data"
    }
   ],
   "source": [
    "df['Activity'].value_counts().plot(kind='pie')"
   ]
  },
  {
   "cell_type": "code",
   "execution_count": 32,
   "id": "36c12be4",
   "metadata": {
    "execution": {
     "iopub.execute_input": "2024-08-23T18:50:38.970978Z",
     "iopub.status.busy": "2024-08-23T18:50:38.970232Z",
     "iopub.status.idle": "2024-08-23T18:54:32.985834Z",
     "shell.execute_reply": "2024-08-23T18:54:32.984385Z"
    },
    "papermill": {
     "duration": 234.038904,
     "end_time": "2024-08-23T18:54:32.989285",
     "exception": false,
     "start_time": "2024-08-23T18:50:38.950381",
     "status": "completed"
    },
    "tags": []
   },
   "outputs": [],
   "source": [
    "from wolta.data_tools import expand_df\n",
    "\n",
    "df = expand_df(df, 'Activity', 'not majority')"
   ]
  },
  {
   "cell_type": "code",
   "execution_count": 13,
   "id": "e43cfa4c",
   "metadata": {
    "execution": {
     "iopub.execute_input": "2024-08-23T18:54:33.017471Z",
     "iopub.status.busy": "2024-08-23T18:54:33.016631Z",
     "iopub.status.idle": "2024-08-23T18:54:33.303197Z",
     "shell.execute_reply": "2024-08-23T18:54:33.301551Z"
    },
    "papermill": {
     "duration": 0.303892,
     "end_time": "2024-08-23T18:54:33.306538",
     "exception": false,
     "start_time": "2024-08-23T18:54:33.002646",
     "status": "completed"
    },
    "tags": []
   },
   "outputs": [
    {
     "data": {
      "text/plain": [
       "<Axes: ylabel='count'>"
      ]
     },
     "execution_count": 13,
     "metadata": {},
     "output_type": "execute_result"
    },
    {
     "data": {
      "image/png": "[encoded data removed]",
      "text/plain": [
       "<Figure size 640x480 with 1 Axes>"
      ]
     },
     "metadata": {},
     "output_type": "display_data"
    }
   ],
   "source": [
    "df['Activity'].value_counts().plot(kind='pie')"
   ]
  },
  {
   "cell_type": "code",
   "execution_count": 33,
   "id": "d78dced3",
   "metadata": {
    "execution": {
     "iopub.execute_input": "2024-08-23T18:54:33.336917Z",
     "iopub.status.busy": "2024-08-23T18:54:33.336448Z",
     "iopub.status.idle": "2024-08-23T18:54:33.347339Z",
     "shell.execute_reply": "2024-08-23T18:54:33.345609Z"
    },
    "papermill": {
     "duration": 0.029275,
     "end_time": "2024-08-23T18:54:33.350204",
     "exception": false,
     "start_time": "2024-08-23T18:54:33.320929",
     "status": "completed"
    },
    "tags": []
   },
   "outputs": [],
   "source": [
    "y = df['Activity'].values\n",
    "del df['Activity']\n",
    "X = df.values\n",
    "del df"
   ]
  },
  {
   "cell_type": "code",
   "execution_count": 34,
   "id": "f1945495",
   "metadata": {
    "execution": {
     "iopub.execute_input": "2024-08-23T18:54:33.380865Z",
     "iopub.status.busy": "2024-08-23T18:54:33.379067Z",
     "iopub.status.idle": "2024-08-23T18:54:38.784872Z",
     "shell.execute_reply": "2024-08-23T18:54:38.783594Z"
    },
    "papermill": {
     "duration": 5.423677,
     "end_time": "2024-08-23T18:54:38.788012",
     "exception": false,
     "start_time": "2024-08-23T18:54:33.364335",
     "status": "completed"
    },
    "tags": []
   },
   "outputs": [],
   "source": [
    "from sklearn.model_selection import train_test_split\n",
    "\n",
    "X_train, X_test, y_train, y_test = train_test_split(X, y, test_size=0.2, random_state=42, stratify=y)\n",
    "del X, y"
   ]
  },
  {
   "cell_type": "code",
   "execution_count": 35,
   "id": "dc43c840",
   "metadata": {
    "execution": {
     "iopub.execute_input": "2024-08-23T18:54:38.815582Z",
     "iopub.status.busy": "2024-08-23T18:54:38.815147Z",
     "iopub.status.idle": "2024-08-23T18:54:41.691977Z",
     "shell.execute_reply": "2024-08-23T18:54:41.690617Z"
    },
    "papermill": {
     "duration": 2.893746,
     "end_time": "2024-08-23T18:54:41.694779",
     "exception": false,
     "start_time": "2024-08-23T18:54:38.801033",
     "status": "completed"
    },
    "tags": []
   },
   "outputs": [
    {
     "name": "stdout",
     "output_type": "stream",
     "text": [
      "Counter({6.0: 1932829, 1.0: 1932829, 7.0: 1932828})\n",
      "Counter({7.0: 483208, 6.0: 483207, 1.0: 483207})\n"
     ]
    }
   ],
   "source": [
    "from collections import Counter\n",
    "\n",
    "print(Counter(y_train))\n",
    "print(Counter(y_test))"
   ]
  },
  {
   "cell_type": "markdown",
   "id": "771694bf",
   "metadata": {
    "papermill": {
     "duration": 0.012705,
     "end_time": "2024-08-23T18:54:41.720358",
     "exception": false,
     "start_time": "2024-08-23T18:54:41.707653",
     "status": "completed"
    },
    "tags": []
   },
   "source": [
    "# Model"
   ]
  },
  {
   "cell_type": "code",
   "execution_count": null,
   "id": "f359f5ef",
   "metadata": {
    "execution": {
     "iopub.execute_input": "2024-08-23T18:54:41.748061Z",
     "iopub.status.busy": "2024-08-23T18:54:41.747568Z",
     "iopub.status.idle": "2024-08-23T22:14:19.761985Z",
     "shell.execute_reply": "2024-08-23T22:14:19.759989Z"
    },
    "papermill": {
     "duration": 11978.031984,
     "end_time": "2024-08-23T22:14:19.765182",
     "exception": false,
     "start_time": "2024-08-23T18:54:41.733198",
     "status": "completed"
    },
    "tags": []
   },
   "outputs": [
    {
     "name": "stderr",
     "output_type": "stream",
     "text": [
      "/opt/anaconda3/lib/python3.12/site-packages/sklearn/ensemble/_weight_boosting.py:527: FutureWarning: The SAMME.R algorithm (the default) is deprecated and will be removed in 1.6. Use the SAMME algorithm to circumvent this warning.\n",
      "  warnings.warn(\n"
     ]
    },
    {
     "name": "stdout",
     "output_type": "stream",
     "text": [
      "AdaBoost\n",
      "Accuracy Score: 0.9158766906131391\n",
      "Precision Score: 0.916227124028432\n",
      "***\n"
     ]
    }
   ],
   "source": [
    "from wolta.model_tools import compare_models\n",
    "\n",
    "results = compare_models('clf',\n",
    "                        ['ada', 'cat', 'lbm', 'raf', 'dtr', 'ext', 'rdg', 'per'],\n",
    "                        ['acc', 'precision'],\n",
    "                        X_train, y_train, X_test, y_test,\n",
    "                        get_result=True)"
   ]
  },
  {
   "cell_type": "code",
   "execution_count": null,
   "id": "0ffb7921",
   "metadata": {
    "execution": {
     "iopub.execute_input": "2024-08-23T22:14:19.798574Z",
     "iopub.status.busy": "2024-08-23T22:14:19.796863Z",
     "iopub.status.idle": "2024-08-24T01:07:38.576166Z",
     "shell.execute_reply": "2024-08-24T01:07:38.574518Z"
    },
    "papermill": {
     "duration": 10398.800011,
     "end_time": "2024-08-24T01:07:38.579747",
     "exception": false,
     "start_time": "2024-08-23T22:14:19.779736",
     "status": "completed"
    },
    "tags": []
   },
   "outputs": [
    {
     "name": "stdout",
     "output_type": "stream",
     "text": [
      "Best Algorithm is raf with the score of 0.9787956284429112\n"
     ]
    }
   ],
   "source": [
    "from wolta.model_tools import get_best_model\n",
    "\n",
    "model = get_best_model(results, 'acc', 'clf', X_train, y_train, behavior='max-best')\n",
    "y_pred = model.predict(X_test)"
   ]
  },
  {
   "cell_type": "code",
   "execution_count": null,
   "id": "118c4037",
   "metadata": {
    "execution": {
     "iopub.execute_input": "2024-08-24T01:07:38.612247Z",
     "iopub.status.busy": "2024-08-24T01:07:38.611643Z",
     "iopub.status.idle": "2024-08-24T01:07:43.156525Z",
     "shell.execute_reply": "2024-08-24T01:07:43.155264Z"
    },
    "papermill": {
     "duration": 4.564576,
     "end_time": "2024-08-24T01:07:43.159282",
     "exception": false,
     "start_time": "2024-08-24T01:07:38.594706",
     "status": "completed"
    },
    "tags": []
   },
   "outputs": [
    {
     "name": "stdout",
     "output_type": "stream",
     "text": [
      "              precision    recall  f1-score   support\n",
      "\n",
      "         1.0       0.97      0.97      0.97    580540\n",
      "         6.0       0.97      0.97      0.97    580541\n",
      "         7.0       1.00      1.00      1.00    580541\n",
      "\n",
      "    accuracy                           0.98   1741622\n",
      "   macro avg       0.98      0.98      0.98   1741622\n",
      "weighted avg       0.98      0.98      0.98   1741622\n",
      "\n"
     ]
    }
   ],
   "source": [
    "from sklearn.metrics import classification_report as rep\n",
    "\n",
    "print(rep(y_test, y_pred))"
   ]
  },
  {
   "cell_type": "code",
   "execution_count": null,
   "id": "390c1ba3",
   "metadata": {
    "execution": {
     "iopub.execute_input": "2024-08-24T01:07:43.191666Z",
     "iopub.status.busy": "2024-08-24T01:07:43.191188Z",
     "iopub.status.idle": "2024-08-24T01:07:45.627778Z",
     "shell.execute_reply": "2024-08-24T01:07:45.626556Z"
    },
    "papermill": {
     "duration": 2.456311,
     "end_time": "2024-08-24T01:07:45.630389",
     "exception": false,
     "start_time": "2024-08-24T01:07:43.174078",
     "status": "completed"
    },
    "tags": []
   },
   "outputs": [
    {
     "data": {
      "text/plain": [
       "<sklearn.metrics._plot.confusion_matrix.ConfusionMatrixDisplay at 0x7cea5c172d70>"
      ]
     },
     "execution_count": 22,
     "metadata": {},
     "output_type": "execute_result"
    },
    {
     "data": {
      "image/png": "[encoded data removed]",
      "text/plain": [
       "<Figure size 640x480 with 2 Axes>"
      ]
     },
     "metadata": {},
     "output_type": "display_data"
    }
   ],
   "source": [
    "from sklearn.metrics import confusion_matrix as conf\n",
    "from sklearn.metrics import ConfusionMatrixDisplay as cmd\n",
    "\n",
    "cm = conf(y_test, y_pred)\n",
    "disp = cmd(confusion_matrix=cm)\n",
    "disp.plot()"
   ]
  }
 ],
 "metadata": {
  "kaggle": {
   "accelerator": "none",
   "dataSources": [
    {
     "datasetId": 5390918,
     "sourceId": 8964538,
     "sourceType": "datasetVersion"
    }
   ],
   "dockerImageVersionId": 30761,
   "isGpuEnabled": false,
   "isInternetEnabled": true,
   "language": "python",
   "sourceType": "notebook"
  },
  "kernelspec": {
   "display_name": "base",
   "language": "python",
   "name": "python3"
  },
  "language_info": {
   "codemirror_mode": {
    "name": "ipython",
    "version": 3
   },
   "file_extension": ".py",
   "mimetype": "text/x-python",
   "name": "python",
   "nbconvert_exporter": "python",
   "pygments_lexer": "ipython3",
   "version": "3.12.2"
  },
  "papermill": {
   "default_parameters": {},
   "duration": 22672.125873,
   "end_time": "2024-08-24T01:07:47.274991",
   "environment_variables": {},
   "exception": null,
   "input_path": "__notebook__.ipynb",
   "output_path": "__notebook__.ipynb",
   "parameters": {},
   "start_time": "2024-08-23T18:49:55.149118",
   "version": "2.6.0"
  }
 },
 "nbformat": 4,
 "nbformat_minor": 5
}
